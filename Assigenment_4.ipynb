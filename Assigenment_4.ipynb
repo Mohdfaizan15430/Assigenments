{
 "cells": [
  {
   "cell_type": "raw",
   "id": "c70cf75c-557e-4664-bb65-0ddd1567e684",
   "metadata": {},
   "source": [
    "Q1. What exactly is []?"
   ]
  },
  {
   "cell_type": "code",
   "execution_count": null,
   "id": "ab3a49a7-b321-4ec4-9be9-d7df73d70ce8",
   "metadata": {},
   "outputs": [],
   "source": [
    "# Answer 1.\n",
    "\n",
    "# [] It is used to represent an empty list, and lists are an essential part of Python's data structures for storing collections of items.\n",
    "\n",
    "empty_list = []  # Creating an empty list"
   ]
  },
  {
   "cell_type": "raw",
   "id": "a72a1f2f-a096-4533-9e8e-31f57a37a6c9",
   "metadata": {},
   "source": [
    "Q2. In a list of values stored in a variable called spam, how would you assign the value 'hello' as the third value? \n",
    "(Assume [2, 4, 6, 8, 10] are in spam.)"
   ]
  },
  {
   "cell_type": "code",
   "execution_count": null,
   "id": "2a8b541b-df5d-4783-9867-b359aca52ff7",
   "metadata": {},
   "outputs": [],
   "source": [
    "# Answer 2.\n",
    "\n",
    "# The value 'hello' as the third value in a list stored in a variable called spam, you can use indexing.\n",
    "\n",
    "#  In Python, indexing starts from 0, so the third value would have an index of 2.\n",
    "\n",
    "# Example:\n",
    "spam = [2, 4, 6, 8, 10]  # The original list\n",
    "spam[2] = 'hello'        # Assigning 'hello' to the third value (index 2)"
   ]
  },
  {
   "cell_type": "raw",
   "id": "75e1aa64-3a30-458a-9c0d-4974fd49e447",
   "metadata": {},
   "source": [
    "Q3. What is the value of spam[int(int('3' * 2) / 11)]?"
   ]
  },
  {
   "cell_type": "code",
   "execution_count": null,
   "id": "9b9188f1-6b7a-487b-895e-1006e923799f",
   "metadata": {},
   "outputs": [],
   "source": [
    "# Answer 3.\n",
    "\n",
    "# Lets break it spam[int(int('3' * 2) / 11)] step by step\n",
    "\n",
    "# '3' * 2 evaluates to the string '33'.\n",
    "# int('33') converts the string '33' to an integer, which is 33.\n",
    "# int('33') / 11 calculates the division, which results in 3.0.\n",
    "\n",
    "\"\"\"Finally, when you index the list spam using spam[int(int('3' * 2) / 11)], you're essentially accessing the element at index 3,\n",
    "which in Python's zero-based indexing corresponds to the fourth element in the list.\"\"\"\n",
    "\n",
    "# If the list spam is ['a', 'b', 'c', 'd'], then spam[int(int('3' * 2) / 11)] would evaluate to 'd'."
   ]
  },
  {
   "cell_type": "raw",
   "id": "816b9f7f-d4dd-40e9-8783-540a7a5034f4",
   "metadata": {},
   "source": [
    "Q4. What is the value of spam[-1]?"
   ]
  },
  {
   "cell_type": "code",
   "execution_count": null,
   "id": "e9c9582c-075a-4994-86f4-4eaae7c6ca53",
   "metadata": {},
   "outputs": [],
   "source": [
    "# Answer 4.\n",
    "\n",
    "# In the Python, negative indices are used to count elements from the end of a list or sequence.\n",
    "# -1 represents the last element, -2 represents the second-to-last element\n",
    "\n",
    "# If the list spam is ['a', 'b', 'c', 'd'], then spam[-1] would evaluate to 'd', which is the last element of the list."
   ]
  },
  {
   "cell_type": "raw",
   "id": "5382b691-c902-4234-b291-c55c1be3bd7e",
   "metadata": {},
   "source": [
    "Q5. What is the value of spam[:2]?"
   ]
  },
  {
   "cell_type": "code",
   "execution_count": null,
   "id": "ab66309b-2f93-4abe-94a1-8d04c005128d",
   "metadata": {},
   "outputs": [],
   "source": [
    "# Answer 5.\n",
    "\n",
    "\"\"\"In Python, slicing is a way to extract a portion of a sequence, such as a list. \n",
    "The syntax for slicing is start:end, where start is the index of the first element you want to include,\n",
    "and end is the index of the first element you want to exclude.\"\"\"\n",
    "\n",
    "spam = ['a', 'b', 'c', 'd']\n",
    "result = spam[:2]  # This creates a new list ['a', 'b']\n",
    "\n",
    "# The value of spam[:2] is ['a', 'b']. It's a new list containing the first two elements of the original spam list."
   ]
  },
  {
   "cell_type": "raw",
   "id": "7097c753-1fce-453f-9b72-992c52cc879d",
   "metadata": {},
   "source": [
    "Q6. What is the value of bacon.index('cat')?"
   ]
  },
  {
   "cell_type": "code",
   "execution_count": null,
   "id": "8bb2a0a0-7031-4f4f-8330-42caeacff991",
   "metadata": {},
   "outputs": [],
   "source": [
    "# Answer 6.\n",
    "\n",
    "# The index method in Python is used to find the index of the first occurrence of a specified value in a list. \n",
    "# the index of the string 'cat' in the list bacon.\n",
    "\n",
    "# The list bacon as [3.14, 'cat', 11, 'cat', True], the value of bacon.index('cat') would be 1.\n",
    "\n",
    "# The index of the first occurrence of 'cat' in the list is 1."
   ]
  },
  {
   "cell_type": "raw",
   "id": "48ce03b5-90ae-495d-948a-308a6556d56d",
   "metadata": {},
   "source": [
    "Q7. How does bacon.append(99) change the look of the list value in bacon?"
   ]
  },
  {
   "cell_type": "code",
   "execution_count": null,
   "id": "73a0f07a-89aa-471f-947c-f6302cba7f6f",
   "metadata": {},
   "outputs": [],
   "source": [
    "# Answer 7.\n",
    "\n",
    "\"\"\"When we use the append() method on a list in Python, it adds the specified value to the end of the list. \n",
    "In the case of bacon.append(99), the value 99 will be added to the end of the list bacon.\"\"\"\n",
    "\n",
    "# The list bacon containing [3.14, 'cat', 11, 'cat', True]\n",
    "\n",
    "bacon = [3.14, 'cat', 11, 'cat', True]\n",
    "bacon.append(99)\n",
    "\n",
    "#Now, the list bacon contains [3.14, 'cat', 11, 'cat', True, 99]. \n",
    "# The append() method does not replace any existing values; it simply adds the new value to the end of the list."
   ]
  },
  {
   "cell_type": "raw",
   "id": "e773aecc-06ee-4c8e-824e-702783f28b17",
   "metadata": {},
   "source": [
    "Q8. How does bacon.remove('cat') change the look of the list in bacon?"
   ]
  },
  {
   "cell_type": "code",
   "execution_count": 12,
   "id": "dac06d5b-2ab6-4428-a61c-46b716ff7e80",
   "metadata": {
    "tags": []
   },
   "outputs": [],
   "source": [
    "# Answer 8.\n",
    "\n",
    "# The remove() method in Python is used to remove the first occurrence of a specified value from a list. remove the string 'cat' from the list bacon.\n",
    "\n",
    "bacon = [3.14, 'cat', 11, 'cat', True, 99]\n",
    "bacon.remove('cat')\n",
    "\n",
    "# Now, the list bacon contains [3.14, 11, 'cat', True, 99]. The method only removes the first instance of the specified value 'cat'."
   ]
  },
  {
   "cell_type": "raw",
   "id": "bcf17488-01c6-4b97-93e6-d1f7d15c46c2",
   "metadata": {},
   "source": [
    "Q9. What are the list concatenation and list replication operators?"
   ]
  },
  {
   "cell_type": "code",
   "execution_count": null,
   "id": "a0e149eb-845d-4642-bd76-3638319ab81c",
   "metadata": {},
   "outputs": [],
   "source": [
    "# Answer 9.\n",
    "\n",
    "# List Concatenation:\n",
    "# In the Python, you can achieve list concatenation using the + operator.\n",
    "\n",
    "list1 = [1, 2, 3]\n",
    "list2 = [4, 5, 6]\n",
    "concatenated_list = list1 + list2\n",
    "print(concatenated_list)  # Output: [1, 2, 3, 4, 5, 6]\n",
    "\n",
    "# List Replication:\n",
    "# You can achieve list replication using the * operator. \n",
    "\n",
    "original_list = [1, 2, 3]\n",
    "replicated_list = original_list * 3\n",
    "print(replicated_list)  # Output: [1, 2, 3, 1, 2, 3, 1, 2, 3]"
   ]
  },
  {
   "cell_type": "raw",
   "id": "c89b7fbe-42f4-4949-98d5-eaf11049fd1b",
   "metadata": {},
   "source": [
    "Q10. What is difference between the list methods append() and insert()?"
   ]
  },
  {
   "cell_type": "code",
   "execution_count": null,
   "id": "ab130189-4c1a-4b68-b305-ff5e41f497fc",
   "metadata": {},
   "outputs": [],
   "source": [
    "# Answer 10.\n",
    "\n",
    "\"\"\"Both are the method append() and insert() are used to add elements to a list in Python, \n",
    "but they differ in terms of where they add the new elements and how they do.\"\"\"\n",
    "\n",
    "# append() Method:\n",
    "# The append() method is used to add an element to the end of a list. It takes a single argument, which is the element you want to add.\n",
    "\n",
    "my_list = [1, 2, 3]\n",
    "my_list.append(4)\n",
    "print(my_list)  # Output: [1, 2, 3, 4]\n",
    "\n",
    "# insert() Method:\n",
    "# The insert() method allows you to add an element at a specific position within the list. It takes two arguments: the index at which you want to insert the new element.\n",
    "\n",
    "my_list = [1, 2, 3]\n",
    "my_list.insert(1, 5)  # Inserting 5 at index 1\n",
    "print(my_list)  # Output: [1, 5, 2, 3]"
   ]
  },
  {
   "cell_type": "raw",
   "id": "71af85d2-33c9-47d5-b501-6dfda168b056",
   "metadata": {},
   "source": [
    "Q11. What are the two methods for removing items from a list?"
   ]
  },
  {
   "cell_type": "code",
   "execution_count": null,
   "id": "d99db426-c3d5-4daf-8afc-f60446fb93b5",
   "metadata": {},
   "outputs": [],
   "source": [
    "# Answer 11.\n",
    "\n",
    "# In the Python, there are two primary methods for removing items from a list: remove() and pop().\n",
    "\n",
    "# remove() Method:\n",
    "# The remove() method is used to remove the first occurrence of a specific value from the list. It takes a single argument,\n",
    "\n",
    "my_list = [1, 2, 3, 2, 4]\n",
    "my_list.remove(2)  # Removing the first occurrence of 2\n",
    "print(my_list)  # Output: [1, 3, 2, 4]\n",
    "\n",
    "# pop() Method:\n",
    "# The pop() method is used to remove an element from a specific index in the list. It takes a single argument,\n",
    "\n",
    "my_list = [1, 2, 3, 4]\n",
    "removed_item = my_list.pop(1)  # Removing the element at index 1 (value 2)\n",
    "print(my_list)  # Output: [1, 3, 4]\n",
    "print(removed_item)  # Output: 2"
   ]
  },
  {
   "cell_type": "raw",
   "id": "61e38f66-3293-4d21-9af3-6118113ae491",
   "metadata": {},
   "source": [
    "Q12. Describe how list values and string values are identical."
   ]
  },
  {
   "cell_type": "code",
   "execution_count": null,
   "id": "0dcc2f2f-f7f8-478b-89ad-4a52f22a19a9",
   "metadata": {},
   "outputs": [],
   "source": [
    "# Answer 12.\n",
    "\n",
    "# List values and string values share some similarities in terms of how they store and represent data, but they are distinct data types in Python.\n",
    "\n",
    "# Sequential Data:\n",
    "# Both lists and strings are considered sequential data types.\n",
    "\n",
    "# Indexing:\n",
    "# Both lists and strings support indexing, which means you can access individual elements by their position (index) within the sequence.\n",
    "\n",
    "# Length: \n",
    "# You can determine the length (number of elements) of both lists and strings using the len() function.\n",
    "\n",
    "# Iteration:\n",
    "# You can iterate over the elements of both lists and strings using loops. This makes it easy to process each element one by one.\n",
    "\n",
    "# Slicing: \n",
    "# Both lists and strings can be sliced to extract sub-sequences."
   ]
  },
  {
   "cell_type": "raw",
   "id": "cc090365-b7d6-46f7-9cfe-1e8dcca8cf45",
   "metadata": {},
   "source": [
    "Q13. What's the difference between tuples and lists?"
   ]
  },
  {
   "cell_type": "code",
   "execution_count": null,
   "id": "fd02a44e-8458-4b83-aac8-cd16786e494d",
   "metadata": {},
   "outputs": [],
   "source": [
    "# Answer 13.\n",
    "\n",
    "# Tuples and lists are both data structures in Python used to store collections of items,\n",
    "\n",
    "# Mutability:\n",
    "# Lists: Lists are mutable, which means you can change their contents after creation. You can add, remove, or modify elements within a list.\n",
    "# Tuples: Tuples are immutable, which means their contents cannot be changed after creation. Once you define the elements of a tuple, you cannot add, remove, or modify them.\n",
    "\n",
    "# Syntax:\n",
    "# Lists: Lists are defined using square brackets '[]'.\n",
    "# Tuples: Tuples are defined using parentheses '()'\n",
    "\n",
    "# Methods:\n",
    "# Lists: Lists have a variety of built-in methods for adding, removing, and manipulating elements, such as append(), remove(), pop(), etc.\n",
    "# Tuples: Tuples have fewer built-in methods since they are immutable. However, they still support methods like count() and index() for basic operations.\n",
    "\n",
    "# Lists (mutable)\n",
    "my_list = [1, 2, 3]\n",
    "my_list.append(4)  # Modifying the list\n",
    "print(my_list)     # Output: [1, 2, 3, 4]\n",
    "\n",
    "# Tuples (immutable)\n",
    "my_tuple = (1, 2, 3)\n",
    "# my_tuple.append(4)  # This will raise an AttributeError since tuples are immutable\n",
    "print(my_tuple)     # Output: (1, 2, 3)"
   ]
  },
  {
   "cell_type": "raw",
   "id": "d83211e6-9c60-4e9f-b450-282950a518f8",
   "metadata": {},
   "source": [
    "Q14. How do you type a tuple value that only contains the integer 42?"
   ]
  },
  {
   "cell_type": "code",
   "execution_count": null,
   "id": "6d184cbc-89dd-44ad-a456-25e740197a84",
   "metadata": {},
   "outputs": [],
   "source": [
    "# Answer 14.\n",
    "\n",
    "# To create a tuple that contains only the integer 42, we can use parentheses and place the integer inside them.\n",
    "\n",
    "my_tuple = (42,)\n",
    "print(my_tuple)  # Output: (42,)\n",
    "\n",
    "\"\"\"The comma , after the 42, Even though there's only one element in the tuple, \n",
    "the comma is necessary to distinguish it from simply enclosing 42 within parentheses, \n",
    "which would be interpreted as an integer expression. The trailing comma ensures that Python recognizes it as a tuple with one element.\"\"\""
   ]
  },
  {
   "cell_type": "raw",
   "id": "616fe1a2-17c0-435c-ad72-4eba329bd447",
   "metadata": {},
   "source": [
    "Q15. How do you get a list value's tuple form? How do you get a tuple value's list form?"
   ]
  },
  {
   "cell_type": "code",
   "execution_count": null,
   "id": "0aedc2ae-5b60-45b9-aa54-6331748e7781",
   "metadata": {},
   "outputs": [],
   "source": [
    "# Answer 15.\n",
    "\n",
    "# To convert a list into its tuple form and a tuple into its list form, you can use the tuple() constructor and the list() constructor, respectively.\n",
    "\n",
    "# Convert List to Tuple:\n",
    "# You can use the tuple() constructor to convert a list into a tuple.\n",
    "\n",
    "my_list = [1, 2, 3, 4]\n",
    "my_tuple = tuple(my_list)\n",
    "print(my_tuple)  # Output: (1, 2, 3, 4)\n",
    "\n",
    "# Convert Tuple to List:\n",
    "# You can use the list() constructor to convert a tuple into a list.\n",
    "\n",
    "my_tuple = (1, 2, 3, 4)\n",
    "my_list = list(my_tuple)\n",
    "print(my_list)  # Output: [1, 2, 3, 4]"
   ]
  },
  {
   "cell_type": "raw",
   "id": "d8b75826-97e8-4e67-b867-4ff40e26a587",
   "metadata": {},
   "source": [
    "Q16. Variables that \"contain\" list values are not necessarily lists themselves. Instead, what do they contain?"
   ]
  },
  {
   "cell_type": "code",
   "execution_count": null,
   "id": "d7915e19-b895-4dd8-b215-f185bf62b554",
   "metadata": {},
   "outputs": [],
   "source": [
    "# Answer 16.\n",
    "\n",
    "\"\"\"Variables that \"contain\" list values are not actually holding the list directly. \n",
    "Instead, they hold references to the list objects. Python uses a system of references to manage data in memory.\"\"\"\n",
    "\n",
    "# When you assign a list to a variable, the variable holds a reference to the memory location where the list data is stored. \n",
    "\n",
    "list1 = [1, 2, 3]\n",
    "list2 = list1  # Both list1 and list2 now refer to the same list object\n",
    "list2.append(4)\n",
    "print(list1)   # Output: [1, 2, 3, 4]\n",
    "\n",
    "\"\"\"both list1 and list2 reference the same list object.\n",
    "When you modify the list through one variable (list2), the change is also reflected when you access the list through the other variable (list1).\"\"\""
   ]
  },
  {
   "cell_type": "raw",
   "id": "636b48ec-1ca8-41e5-b4ac-d9903f93f612",
   "metadata": {},
   "source": [
    "Q17. How do you distinguish between copy.copy() and copy.deepcopy()?"
   ]
  },
  {
   "cell_type": "code",
   "execution_count": null,
   "id": "c12750a7-94d6-499e-99e8-9d63379e7314",
   "metadata": {},
   "outputs": [],
   "source": [
    "# Answer 17.\n",
    "\n",
    "\"\"\"In the Python, the copy module provides two functions for creating copies of objects: \n",
    "copy() and deepcopy(). These functions are used to create copies of objects, \n",
    "particularly when dealing with nested data structures like lists of lists or dictionaries of dictionaries.\"\"\"\n",
    "\n",
    "# copy() Function:\n",
    "\"\"\"The copy() function creates a shallow copy of an object.\n",
    "A shallow copy creates a new object, but if the object contains references to other objects,\n",
    "the copied object will reference the same nested objects as the original object, instead of creating new copies of them.\"\"\"\n",
    "\n",
    "import copy\n",
    "\n",
    "original_list = [1, [2, 3]]\n",
    "shallow_copy = copy.copy(original_list)\n",
    "\n",
    "# Modifying the nested list in the shallow copy affects the original list\n",
    "shallow_copy[1][0] = 99\n",
    "print(original_list)  # Output: [1, [99, 3]]\n",
    "\n",
    "\n",
    "\n",
    "# deepcopy() Function:\n",
    "\"\"\"The deepcopy() function, on the other hand, creates a deep copy of an object. \n",
    "A deep copy creates a new object and also recursively creates new copies of all the nested objects, \n",
    "ensuring that there are no shared references between the original and copied objects.\"\"\"\n",
    "\n",
    "import copy\n",
    "\n",
    "original_list = [1, [2, 3]]\n",
    "deep_copy = copy.deepcopy(original_list)\n",
    "\n",
    "# Modifying the nested list in the deep copy does not affect the original list\n",
    "deep_copy[1][0] = 99\n",
    "print(original_list)  # Output: [1, [2, 3]]\n",
    "\n",
    "# copy() creates a shallow copy that shares nested objects with the original.\n",
    "# deepcopy() creates a deep copy that recursively creates new copies of all nested objects."
   ]
  }
 ],
 "metadata": {
  "kernelspec": {
   "display_name": "Python 3 (ipykernel)",
   "language": "python",
   "name": "python3"
  },
  "language_info": {
   "codemirror_mode": {
    "name": "ipython",
    "version": 3
   },
   "file_extension": ".py",
   "mimetype": "text/x-python",
   "name": "python",
   "nbconvert_exporter": "python",
   "pygments_lexer": "ipython3",
   "version": "3.10.6"
  }
 },
 "nbformat": 4,
 "nbformat_minor": 5
}
