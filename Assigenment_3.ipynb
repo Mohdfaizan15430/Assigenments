{
 "cells": [
  {
   "cell_type": "raw",
   "id": "3811e80b-45c9-42bd-841f-dea6ed3a3cb7",
   "metadata": {},
   "source": [
    "Q1. Why are functions advantageous to have in your programs?"
   ]
  },
  {
   "cell_type": "code",
   "execution_count": null,
   "id": "1ec7dc79-38b0-4dc5-a508-837dd12ddbc7",
   "metadata": {},
   "outputs": [],
   "source": [
    "# Answer 1.\n",
    "\n",
    "\"\"\"functions promote better code organization, readability, Modularity, and reusability. \n",
    "They are a fundamental building block in programming that helps manage complexity and create more robust software solutions.\"\"\"\n",
    "\n",
    "# Modularity: Functions allow you to break down a complex problem into smaller, manageable pieces.\n",
    "\n",
    "# Reusability: Once you create a function to perform a specific task, you can reuse it throughout your program or in different projects.\n",
    "\n",
    "# Readability: Well-named functions enhance code readability by encapsulating complex logic behind a descriptive name.\n"
   ]
  },
  {
   "cell_type": "raw",
   "id": "46597ff4-9baf-4a14-a24c-27dc24b041b0",
   "metadata": {},
   "source": [
    "Q2. When does the code in a function run: when it's specified or when it's called?"
   ]
  },
  {
   "cell_type": "code",
   "execution_count": null,
   "id": "03b54975-daf5-410f-9b4b-e38af06f1989",
   "metadata": {},
   "outputs": [],
   "source": [
    "# Answer 2.\n",
    "\n",
    "# the code within a function runs when the function is called, allowing you to execute a specific set of operations or calculations at a particular point in your program.\n",
    "\n",
    "def add_numbers(a, b):\n",
    "    result = a + b\n",
    "    return result\n",
    "\n",
    "# Function is defined, but no code inside it has executed yet\n",
    "\n",
    "sum_result = add_numbers(5, 7)\n",
    "print(sum_result)  # Output: 12\n",
    "\n",
    "# The code inside the 'add_numbers' function executed when it was called."
   ]
  },
  {
   "cell_type": "raw",
   "id": "8e355655-4e5f-4ba0-a9f1-dc1d1801ed2e",
   "metadata": {},
   "source": [
    "Q3. What statement creates a function?"
   ]
  },
  {
   "cell_type": "code",
   "execution_count": null,
   "id": "4fb64af6-4cdd-4718-9486-06591c3cb339",
   "metadata": {},
   "outputs": [],
   "source": [
    "# Answer 3.\n",
    "\n",
    "\"\"\"The statement is commonly used to create a function. The def statement is used to define the function's name, \n",
    "parameters, and the block of code that should be executed when the function is called.\"\"\"\n",
    "\n",
    "def greet(name):\n",
    "    message = \"Hello, \" + name + \"!\"\n",
    "    return message\n",
    "\n",
    "# Calling the function\n",
    "greeting = greet(\"Faizan\")\n",
    "print(greeting)  # Output: Hello, Faizan!"
   ]
  },
  {
   "cell_type": "raw",
   "id": "096d5409-b370-4595-98df-1986f08846a3",
   "metadata": {},
   "source": [
    "Q4. What is the difference between a function and a function call?"
   ]
  },
  {
   "cell_type": "code",
   "execution_count": null,
   "id": "6dc7c3a9-0398-4d43-8b44-86fcac78471f",
   "metadata": {},
   "outputs": [],
   "source": [
    "# Answer 4.\n",
    "\n",
    "# A function and a function call are two related concepts in programming, but they serve different purposes:\n",
    "\n",
    "# Function:\n",
    "# A function is a self-contained block of code that performs a specific task or a set of operations.\n",
    "\n",
    "# Function Call:\n",
    "# A function call is the action of actually using or invoking a function that has been defined.\n",
    "\n",
    "# Function definition\n",
    "def add_numbers(a, b):\n",
    "    result = a + b\n",
    "    return result\n",
    "\n",
    "# Function call\n",
    "sum_result = add_numbers(5, 7)\n",
    "\n",
    "print(sum_result)  # Output: 12"
   ]
  },
  {
   "cell_type": "raw",
   "id": "7f3ec1bc-2fea-48d6-8c0d-8e2c52b8254c",
   "metadata": {},
   "source": [
    "Q5. How many global scopes are there in a Python program? How many local scopes?"
   ]
  },
  {
   "cell_type": "code",
   "execution_count": null,
   "id": "d9aa1fcc-f630-47e3-be3e-504d19d7b432",
   "metadata": {},
   "outputs": [],
   "source": [
    "# Answer 5.\n",
    "\n",
    "# In a Python program, there can be only one global scope, but there can be multiple local scopes.\n",
    "\n",
    "# Global Scope:\n",
    "# The global scope refers to the top-level scope of a Python program or module. Variables defined in the global scope are accessible throughout the entire module or program.\n",
    "\n",
    "# Local Scopes:\n",
    "# Local scopes are created whenever a function is defined. Each function has its own local scope, which includes the variables defined within that function.\n",
    "\n",
    "global_var = 10  # This is in the global scope\n",
    "\n",
    "def my_function():\n",
    "    local_var = 5  # This is in the local scope of my_function\n",
    "    print(local_var)  # Accessible here\n",
    "\n",
    "my_function()  # Calling the function\n",
    "print(global_var)  # Accessible here\n",
    "\n",
    "# Trying to access local_var outside the function will result in an error\n",
    "# print(local_var)  # This would raise an error"
   ]
  },
  {
   "cell_type": "raw",
   "id": "bd56759c-a638-441e-a9ef-82cd2667327a",
   "metadata": {},
   "source": [
    "Q6. What happens to variables in a local scope when the function call returns?"
   ]
  },
  {
   "cell_type": "code",
   "execution_count": null,
   "id": "f5e4c5b0-65ce-42f5-8851-8798d9f76a65",
   "metadata": {},
   "outputs": [],
   "source": [
    "# Answer 6.\n",
    "\n",
    "#When a function call returns, the variables defined within the local scope of that function are typically destroyed, and the memory associated with those variables is released.\n",
    "\n",
    "def my_function():\n",
    "    local_var = 5  # Local variable within the function\n",
    "    return local_var\n",
    "\n",
    "result = my_function()  # Calling the function and storing its result\n",
    "# At this point, 'local_var' from the function's scope no longer exists\n",
    "\n",
    "print(result)  # Output: 5\n",
    "\n",
    "# Trying to access 'local_var' here would result in an error\n",
    "# print(local_var)  # This would raise an error"
   ]
  },
  {
   "cell_type": "raw",
   "id": "70547c7c-9b99-46d8-8177-33a3969ad136",
   "metadata": {},
   "source": [
    "Q7. What is the concept of a return value? Is it possible to have a return value in an expression?"
   ]
  },
  {
   "cell_type": "code",
   "execution_count": null,
   "id": "923084cc-06b6-433e-b04c-3668e8622894",
   "metadata": {},
   "outputs": [],
   "source": [
    "# Answer 7.\n",
    "\n",
    "# the concept of a return value allows functions to send data back to the caller, and these return values can be directly used in expressions or assigned to variables for further processing.\n",
    "\n",
    "def square(x):\n",
    "    return x ** 2\n",
    "\n",
    "value = square(4)  # Calling the function and getting its return value\n",
    "result = value + 10  # Using the return value in an expression\n",
    "\n",
    "print(result)  # Output: 26 (4^2 + 10)"
   ]
  },
  {
   "cell_type": "raw",
   "id": "29365981-05f7-473c-862f-9ab4c21fea9e",
   "metadata": {},
   "source": [
    "Q8. If a function does not have a return statement, what is the return value of a call to that function?"
   ]
  },
  {
   "cell_type": "code",
   "execution_count": null,
   "id": "c43aa718-2ae5-40a0-8036-34b6f3280102",
   "metadata": {},
   "outputs": [],
   "source": [
    "# Answer 8.\n",
    "\n",
    "\"\"\"f a function does not have a return statement, the return value of a call to that function is None. \n",
    "In Python, None is a special built-in constant that represents the absence of a value.\n",
    "When a function reaches the end of its execution without encountering a return statement, it implicitly returns None.\"\"\"\n",
    "\n",
    "def no_return():\n",
    "    # This function does not have a 'return' statement\n",
    "\n",
    "result = no_return()\n",
    "print(result)  # Output: None"
   ]
  },
  {
   "cell_type": "raw",
   "id": "73d8b1a0-3e1b-42ad-8f78-45f8be629fe3",
   "metadata": {},
   "source": [
    "Q9. How do you make a function variable refer to the global variable?"
   ]
  },
  {
   "cell_type": "code",
   "execution_count": null,
   "id": "53ca4aec-ffec-4f8b-b9c7-2e82216ef5ec",
   "metadata": {},
   "outputs": [],
   "source": [
    "# Answer 9.\n",
    "\n",
    "\"\"\"If you want to make a function variable refer to a global variable, you can use the global keyword in Python. \n",
    "This allows you to explicitly indicate that you want to work with the global variable inside the function, \n",
    "rather than creating a new local variable with the same name.\"\"\"\n",
    "\n",
    "# The global keyword can help you modify global variables from within functions.\n",
    "\n",
    "global_var = 10  # Global variable\n",
    "\n",
    "def update_global():\n",
    "    global global_var  # Declare that we are using the global variable\n",
    "    global_var = 20    # Update the global variable\n",
    "\n",
    "print(\"Before update:\", global_var)\n",
    "update_global()\n",
    "print(\"After update:\", global_var)"
   ]
  },
  {
   "cell_type": "raw",
   "id": "d8a7bb16-7608-4cf1-9552-caaa5d64ae40",
   "metadata": {},
   "source": [
    "Q10. What is the data type of None?"
   ]
  },
  {
   "cell_type": "code",
   "execution_count": null,
   "id": "4395d32f-62eb-45b8-aff0-b8f17057b67e",
   "metadata": {},
   "outputs": [],
   "source": [
    "# Answer 10.\n",
    "\n",
    "# The data type of None is called NoneType. You can check the data type of None using the type() function:\n",
    "\n",
    "value = None\n",
    "print(type(value))  # Output: <class 'NoneType'>"
   ]
  },
  {
   "cell_type": "raw",
   "id": "bd573209-0732-4208-9c87-f8d3b91ece5c",
   "metadata": {},
   "source": [
    "Q11. What does the sentence import areallyourpetsnamederic do?"
   ]
  },
  {
   "cell_type": "code",
   "execution_count": null,
   "id": "47b2d272-085c-466e-a9f8-66c28b6d4da4",
   "metadata": {},
   "outputs": [],
   "source": [
    "# Answer 11.\n",
    "\n",
    "\"\"\"the sentence \"import areallyourpetsnamederic\" does not have any particular meaning or significance in the context of Python \n",
    "programming unless \"areallyourpetsnamederic\" is a custom modulethat you have created or obtained from somewhere.\"\"\"\n",
    "\n",
    "# The sentence \"import areallyourpetsnamederic\" is not a regular sentence but rather a valid Python import statement in Python."
   ]
  },
  {
   "cell_type": "raw",
   "id": "12b97ba0-ef15-4db6-8814-2b6ffbee8527",
   "metadata": {},
   "source": [
    "Q12. If you had a bacon() feature in a spam module, what would you call it after importing spam?"
   ]
  },
  {
   "cell_type": "code",
   "execution_count": null,
   "id": "dde49fc6-ab5a-4a8c-a1c2-14ee234ddf5e",
   "metadata": {},
   "outputs": [],
   "source": [
    "# Answer 12.\n",
    "\n",
    "# The spam module is imported using the import statement, and then you can access the bacon() function using dot notation: spam.bacon().\n",
    "\n",
    "import spam\n",
    "\n",
    "spam.bacon()"
   ]
  },
  {
   "cell_type": "raw",
   "id": "53a94f9f-27e2-40f3-b208-34f6c1616810",
   "metadata": {},
   "source": [
    "Q13. What can you do to save a programme from crashing if it encounters an error?"
   ]
  },
  {
   "cell_type": "code",
   "execution_count": null,
   "id": "7017cd8b-6893-4f9c-bf66-0cd6e763a7ae",
   "metadata": {},
   "outputs": [],
   "source": [
    "# Answer 13.\n",
    "\n",
    "\"\"\"To prevent a program from crashing when it encounters an error, you can implement error handling techniques.\n",
    "Python provides built-in mechanisms for handling exceptions (errors) that might occur during program execution.\"\"\"\n",
    "\n",
    "# Try-Except Blocks:\n",
    "try:\n",
    "    # Code that might raise an exception\n",
    "    except SomeException:\n",
    "    # Code to handle the exception\n",
    "\n",
    "\n",
    "# Handling Multiple Exceptions:\n",
    "try:\n",
    "    # Code that might raise an exception\n",
    "    except FirstException:\n",
    "    # Code to handle the first exception\n",
    "    except SecondException:\n",
    "    # Code to handle the second exception\n",
    "\n",
    "\n",
    "# Using the finally Clause:\n",
    "try:\n",
    "    # Code that might raise an exception\n",
    "    except SomeException:\n",
    "    # Code to handle the exception\n",
    "    finally:\n",
    "    # Code to execute regardless of exceptions"
   ]
  },
  {
   "cell_type": "raw",
   "id": "22567a3f-e13e-43f4-b79f-53bdc6e1aa52",
   "metadata": {},
   "source": [
    "Q14. What is the purpose of the try clause? What is the purpose of the except clause?"
   ]
  },
  {
   "cell_type": "code",
   "execution_count": null,
   "id": "8f522dd8-ec56-4d2f-8e41-ca2abb28834e",
   "metadata": {},
   "outputs": [],
   "source": [
    "# Answer 14.\n",
    "\n",
    "\"\"\"The try and except clauses are used in Python for implementing error handling. \n",
    "They work together to allow you to write code that gracefully handles exceptions,\n",
    "preventing your program from crashing when it encounters errors.\"\"\"\n",
    "\n",
    "try:\n",
    "    # Code that might raise an exception\n",
    "    except ExceptionType:\n",
    "    # Code to handle the exception\n",
    "    \n",
    "# The try clause is used to contain code that might raise exceptions, and the except clause is used to define how to handle those exceptions."
   ]
  }
 ],
 "metadata": {
  "kernelspec": {
   "display_name": "Python 3 (ipykernel)",
   "language": "python",
   "name": "python3"
  },
  "language_info": {
   "codemirror_mode": {
    "name": "ipython",
    "version": 3
   },
   "file_extension": ".py",
   "mimetype": "text/x-python",
   "name": "python",
   "nbconvert_exporter": "python",
   "pygments_lexer": "ipython3",
   "version": "3.10.6"
  }
 },
 "nbformat": 4,
 "nbformat_minor": 5
}
