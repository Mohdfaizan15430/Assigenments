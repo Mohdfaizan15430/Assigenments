{
 "cells": [
  {
   "cell_type": "raw",
   "id": "a82356aa-615f-42b0-a9c8-3afe896d6ce8",
   "metadata": {},
   "source": [
    "Q1.What are the two values of the Boolean data type? How do you write them?\n"
   ]
  },
  {
   "cell_type": "code",
   "execution_count": null,
   "id": "16804aef-98cc-46fa-98da-a8159cf078db",
   "metadata": {},
   "outputs": [],
   "source": [
    "# Answer 1.\n",
    "\n",
    "# The Boolean data type has two possible values: true and false.\n",
    "# these values are often represented as keywords or literals.\n",
    "\n",
    "boolean_true = True\n",
    "boolean_false = False\n",
    "\n",
    "# These values are case-sensitive, so make sure to use the correct capitalization when writing them."
   ]
  },
  {
   "cell_type": "raw",
   "id": "842f9766-8e56-468b-a957-6c8c849f2bc1",
   "metadata": {},
   "source": [
    "Q2. What are the three different types of Boolean operators?\n"
   ]
  },
  {
   "cell_type": "code",
   "execution_count": null,
   "id": "b28318b1-e9fd-4fe7-b6f7-9ac25a79ba83",
   "metadata": {},
   "outputs": [],
   "source": [
    "# Answer 2.\n",
    "\n",
    "# In Python, there are three main types of Boolean operators that you can use to manipulate and combine Boolean values.\n",
    "\n",
    "# Logical AND\n",
    "result_and = True and False\n",
    "print(result_and)  # Output: False\n",
    "\n",
    "# Logical OR\n",
    "result_or = True or False\n",
    "print(result_or)   # Output: True\n",
    "\n",
    "# Logical NOT\n",
    "result_not = not True\n",
    "print(result_not)  # Output: False\n"
   ]
  },
  {
   "cell_type": "raw",
   "id": "82e4bc25-12a1-4c5e-a5a2-90c210b97988",
   "metadata": {},
   "source": [
    "Q3. Make a list of each Boolean operator's truth tables (i.e. every possible combination of Boolean values for the operator and what it evaluate ).\n"
   ]
  },
  {
   "cell_type": "code",
   "execution_count": null,
   "id": "def91961-2d09-481c-9b9b-a85a9f0130c0",
   "metadata": {},
   "outputs": [],
   "source": [
    "# Answer 3.\n",
    "\n",
    "# The truth tables for the basic Boolean operators (AND, OR, NOT, XOR)\n",
    "\n",
    "# Truth table for AND operator\n",
    "print(\"AND Operator:\")\n",
    "print(\"True  AND True  =\", True and True)\n",
    "print(\"True  AND False =\", True and False)\n",
    "print(\"False AND True  =\", False and True)\n",
    "print(\"False AND False =\", False and False)\n",
    "print()\n",
    "\n",
    "\n",
    "# Truth table for OR operator\n",
    "print(\"OR Operator:\")\n",
    "print(\"True  OR True  =\", True or True)\n",
    "print(\"True  OR False =\", True or False)\n",
    "print(\"False OR True  =\", False or True)\n",
    "print(\"False OR False =\", False or False)\n",
    "print()\n",
    "\n",
    "# Truth table for NOT operator\n",
    "print(\"NOT Operator:\")\n",
    "print(\"NOT True  =\", not True)\n",
    "print(\"NOT False =\", not False)\n",
    "print()\n",
    "\n",
    "# Truth table for XOR operator\n",
    "print(\"XOR Operator:\")\n",
    "print(\"True  XOR True  =\", True != True)\n",
    "print(\"True  XOR False =\", True != False)\n",
    "print(\"False XOR True  =\", False != True)\n",
    "print(\"False XOR False =\", False != False)"
   ]
  },
  {
   "cell_type": "raw",
   "id": "d1861797-a9bb-47d4-a009-a4263bc7bdb0",
   "metadata": {},
   "source": [
    "Q4 What are the values of the following expressions?\n",
    "(5 > 4) and (3 == 5)\n",
    "not (5 > 4)\n",
    "(5 > 4) or (3 == 5)\n",
    "not ((5 > 4) or (3 == 5))\n",
    "(True and True) and (True == False)\n",
    "(not False) or (not True)\n"
   ]
  },
  {
   "cell_type": "code",
   "execution_count": null,
   "id": "57f6910a-80b5-4cfc-bf16-114773b1c561",
   "metadata": {},
   "outputs": [],
   "source": [
    "# Answer 4.\n",
    "\n",
    "# The values of expressions of the following are.\n",
    "\n",
    "# Expression 1\n",
    "result_1 = (5 > 4) and (3 == 5)\n",
    "print(\"Expression 1:\", result_1)\n",
    "\n",
    "# Expression 2\n",
    "result_2 = not (5 > 4)\n",
    "print(\"Expression 2:\", result_2)\n",
    "\n",
    "# Expression 3\n",
    "result_3 = (5 > 4) or (3 == 5)\n",
    "print(\"Expression 3:\", result_3)\n",
    "\n",
    "# Expression 4\n",
    "result_4 = not ((5 > 4) or (3 == 5))\n",
    "print(\"Expression 4:\", result_4)\n",
    "\n",
    "# Expression 5\n",
    "result_5 = (True and True) and (True == False)\n",
    "print(\"Expression 5:\", result_5)\n",
    "\n",
    "# Expression 6\n",
    "result_6 = (not False) or (not True)\n",
    "print(\"Expression 6:\", result_6)"
   ]
  },
  {
   "cell_type": "raw",
   "id": "48ae3ac0-a326-42f3-85da-1141f874a3de",
   "metadata": {},
   "source": [
    "Q5. What are the six comparison operators?\n"
   ]
  },
  {
   "cell_type": "code",
   "execution_count": null,
   "id": "6abfacc0-5ce9-4ef3-bc52-6487a5cbe2a9",
   "metadata": {},
   "outputs": [],
   "source": [
    "# Answer 5.\n",
    "\n",
    "# The six comparison operators in Python are:\n",
    "\n",
    "# 1 Equal to (==): Checks if two values are equal.\n",
    "# 2 Not equal to (!=): Checks if two values are not equal.\n",
    "# 3 Greater than (>): Checks if the left value is greater than the right value.\n",
    "# 4 Less than (<): Checks if the left value is less than the right value.\n",
    "# 5 Greater than or equal to (>=): Checks if the left value is greater than or equal to the right value.\n",
    "# 6 Less than or equal to (<=): Checks if the left value is less than or equal to the right value."
   ]
  },
  {
   "cell_type": "raw",
   "id": "dbcfa5c9-8043-41f6-b940-0c34dcb0a9dc",
   "metadata": {},
   "source": [
    "Q6. How do you tell the difference between the equal to and assignment operators?Describe a condition and when you would use one.\n"
   ]
  },
  {
   "cell_type": "code",
   "execution_count": null,
   "id": "d3261f60-2084-496a-8c62-45650bbecf50",
   "metadata": {},
   "outputs": [],
   "source": [
    "# Answer 6.\n",
    "\n",
    "# The equal to operator (==) and the assignment operator (=) are two different operators that serve distinct purposes\n",
    "\n",
    "# Equal To Operator (==):\n",
    "# The equal to operator is used for comparison. It checks whether two values are equal or not.\n",
    "\n",
    "expected_password = \"secret123\"\n",
    "user_input = input(\"Enter your password: \")\n",
    "\n",
    "if user_input == expected_password:\n",
    "    print(\"Access granted.\")\n",
    "else:\n",
    "    print(\"Access denied.\")\n",
    "\n",
    "\n",
    "# Assignment Operator (=):\n",
    "# The assignment operator is used to assign a value to a variable. It assigns the value on its right-hand side to the variable on its left-hand side.\n",
    "\n",
    "score = 0\n",
    "\n",
    "# User earns points\n",
    "points_earned = 10\n",
    "score = score + points_earned\n",
    "\n",
    "print(\"Updated score:\", score)\n"
   ]
  },
  {
   "cell_type": "raw",
   "id": "504d8ea0-05ae-44e6-aec5-692b81b642c3",
   "metadata": {},
   "source": [
    "Q7. Identify the three blocks in this code:\n",
    "spam = 0\n",
    "if spam == 10:\n",
    "print('eggs')\n",
    "if spam > 5:\n",
    "print('bacon')\n",
    "else:\n",
    "print('ham')\n",
    "print('spam')\n",
    "print('spam')\n"
   ]
  },
  {
   "cell_type": "code",
   "execution_count": null,
   "id": "3dc73074-2e9e-4d39-a9c7-b044f2cdf273",
   "metadata": {},
   "outputs": [],
   "source": [
    "# Answer 7.\n",
    "\n",
    "# spam = 0 if spam == 10:\n",
    "\n",
    "# print('eggs') if spam > 5:\n",
    "\n",
    "# print('bacon') else:\n",
    "\n",
    "# print('ham')\n",
    "# print('spam')\n",
    "# print('spam')\n"
   ]
  },
  {
   "cell_type": "raw",
   "id": "eb6fed55-35f1-4dae-8c66-47dfa761517e",
   "metadata": {},
   "source": [
    "Q8. Write code that prints Hello if 1 is stored in spam, prints Howdy if 2 is stored in spam, and prints Greetings! if anything else is stored in spam.\n"
   ]
  },
  {
   "cell_type": "code",
   "execution_count": null,
   "id": "680649c1-add7-4d39-842f-28137559819d",
   "metadata": {},
   "outputs": [],
   "source": [
    "# Answer 8.\n",
    "\n",
    "spam = int(input(\"Enter a value for spam: \"))\n",
    "\n",
    "if spam == 1:\n",
    "    print(\"Hello\")\n",
    "elif spam == 2:\n",
    "    print(\"Howdy\")\n",
    "else:\n",
    "    print(\"Greetings!\")"
   ]
  },
  {
   "cell_type": "raw",
   "id": "d5c13906-bab0-450f-92ed-1cf309cdf0f8",
   "metadata": {},
   "source": [
    "Q9.If your programme is stuck in an endless loop, what keys you’ll press?\n"
   ]
  },
  {
   "cell_type": "code",
   "execution_count": null,
   "id": "20611ad1-a18f-4e5e-bf87-911fa7894e1e",
   "metadata": {},
   "outputs": [],
   "source": [
    "# Answer 9.\n",
    "\n",
    "# If my program were stuck in an endless loop and I wanted to stop it, I would use the key.\n",
    "\n",
    "ress Ctrl + C\n",
    "\n",
    "# These key combinations generate a \"Keyboard Interrupt\" signal that is sent to the running program.\n"
   ]
  },
  {
   "cell_type": "raw",
   "id": "d93cf3dd-fa1c-4f67-adb5-34e25acd3f3d",
   "metadata": {},
   "source": [
    "Q10. How can you tell the difference between break and continue?\n"
   ]
  },
  {
   "cell_type": "code",
   "execution_count": null,
   "id": "26f1d699-6794-48ce-a112-62f89d020aa8",
   "metadata": {},
   "outputs": [],
   "source": [
    "# Answer 10.\n",
    "\n",
    "\"\"\"In programming, break and continue are two control flow statements used to manipulate loops (such as for, while, and do-while)\n",
    "in order to control the flow of execution within the loop.\"\"\"\n",
    "\n",
    "# Break Statement:\n",
    "# The break statement is used to terminate the current loop prematurely, regardless of whether the loop's condition has been satisfied.\n",
    "\n",
    "for i in range(1, 6):\n",
    "    if i == 3:\n",
    "        break\n",
    "    print(i)\n",
    "    \n",
    "# Continue Statement:\n",
    "# The continue statement is used to skip the rest of the current iteration of the loop and move on to the next iteration.\n",
    "\n",
    "for i in range(1, 6):\n",
    "    if i == 3:\n",
    "        continue\n",
    "    print(i)"
   ]
  },
  {
   "cell_type": "raw",
   "id": "f68df55d-57a3-4f76-9645-cf6276261e0d",
   "metadata": {},
   "source": [
    "Q11. In a for loop, what is the difference between range(10), range(0, 10), and range(0, 10, 1)?\n"
   ]
  },
  {
   "cell_type": "code",
   "execution_count": null,
   "id": "a1bd1fa7-92ba-497a-862e-35d85932c3e8",
   "metadata": {},
   "outputs": [],
   "source": [
    "# Answer 11.\n",
    "\n",
    "\"\"\"In Python, the range() function is commonly used to generate a sequence of numbers within a specified range. \n",
    "All three forms you mentioned – range(10), range(0, 10), and range(0, 10, 1) – are equivalent and will produce the same result.\n",
    "The range() function takes up to three arguments:\"\"\"\n",
    "\n",
    "# \"start\" (optional): The starting value of the sequence. If omitted, it defaults to 0.\n",
    "# \"stop\": The stopping value of the sequence. The sequence will generate numbers up to, but not including, this value.\n",
    "# \"step\" (optional): The step size between consecutive numbers in the sequence. If omitted, it defaults to 1.\n",
    "\n",
    "# \"range\"(10): This form generates a sequence of numbers from 0 up to (but not including) 10, with a default step size of 1. Essentially, it's equivalent to range(0, 10, 1).\n",
    "# \"range\"(0, 10): This form explicitly specifies the start and stop values for the sequence. It generates numbers from 0 up to (but not including) 10, again with a default step size of 1.\n",
    "# \"range\"(0, 10, 1): This form specifies both the start, stop, and step values. It generates numbers from 0 up to (but not including) 10, with a step size of 1. In this case, specifying the step size as 1 doesn't change anything, as it's the default step size.\n",
    "\n",
    "\"\"\"all three forms of range(10), range(0, 10), and range(0, 10, 1) \n",
    "will produce the same sequence of numbers from 0 up to (but not including) 10 with a step size of 1.\"\"\"\n"
   ]
  },
  {
   "cell_type": "raw",
   "id": "eae2c8c1-1c2b-401d-b3f3-d374144df089",
   "metadata": {},
   "source": [
    "Q12. Write a short program that prints the numbers 1 to 10 using a for loop. Then write an equivalent program that prints the numbers 1 to 10 using a while loop.\n"
   ]
  },
  {
   "cell_type": "code",
   "execution_count": null,
   "id": "5b32f583-fac9-4b80-8772-213df8ddc255",
   "metadata": {},
   "outputs": [],
   "source": [
    "# Answer 12.\n",
    "\n",
    "# Using a for loop:\n",
    "\n",
    "# Using a for loop to print numbers 1 to 10\n",
    "for i in range(1, 11):\n",
    "    print(i)\n",
    "    \n",
    "\n",
    "# Using a while loop:\n",
    "\n",
    "# Using a while loop to print numbers 1 to 10\n",
    "num = 1\n",
    "while num <= 10:\n",
    "    print(num)\n",
    "    num += 1"
   ]
  },
  {
   "cell_type": "raw",
   "id": "94674573-820e-4d32-a435-cd722c66f126",
   "metadata": {},
   "source": [
    "Q13. If you had a function named bacon() inside a module named spam, how would you call it after importing spam?\n"
   ]
  },
  {
   "cell_type": "code",
   "execution_count": null,
   "id": "2285bbe7-4de2-4789-9666-a9696547862b",
   "metadata": {},
   "outputs": [],
   "source": [
    "# Answer 13.\n",
    "\n",
    "# If you have a function named \"bacon()\" inside a module named \"spam\", and you want to call this function after importing the \"spam\" module.\n",
    "\n",
    "import spam\n",
    "\n",
    "# Calling the bacon() function from the spam module\n",
    "spam.bacon()\n",
    "\n",
    "\"\"\"the import spam statement imports the spam module, making all its functions and variables accessible using the spam. prefix. The spam.bacon() \n",
    "line then calls the bacon() function from the spam module.\"\"\"\n"
   ]
  }
 ],
 "metadata": {
  "kernelspec": {
   "display_name": "Python 3 (ipykernel)",
   "language": "python",
   "name": "python3"
  },
  "language_info": {
   "codemirror_mode": {
    "name": "ipython",
    "version": 3
   },
   "file_extension": ".py",
   "mimetype": "text/x-python",
   "name": "python",
   "nbconvert_exporter": "python",
   "pygments_lexer": "ipython3",
   "version": "3.10.6"
  }
 },
 "nbformat": 4,
 "nbformat_minor": 5
}
