{
 "cells": [
  {
   "cell_type": "raw",
   "id": "1fba0ac5-25a7-4fbf-bc0b-98c4d25e6629",
   "metadata": {},
   "source": [
    "Q1. In the below elements which of them are values or an expression? eg:- values can be integer or string and expressions will be mathematical operators.\n",
    "# (*, 'hello', -87.8, -, /, +, 6)\n"
   ]
  },
  {
   "cell_type": "code",
   "execution_count": null,
   "id": "68c67616-971d-4187-a750-0d096cb2e4d3",
   "metadata": {},
   "outputs": [],
   "source": [
    "# Answer 1.\n",
    "\n",
    "# in the list, some elements are values and some are expression.\n",
    "\n",
    "# Values:\n",
    "\n",
    "'hello' #(string value)\n",
    "-87.8 #(floating-point number value)\n",
    "6 #(integer value)\n",
    "\n",
    "#expression:\n",
    "\n",
    "* #(multiplication expression)\n",
    "- #(subtraction expression)\n",
    "/ #(division expression)\n",
    "+ #(addition expression)\n"
   ]
  },
  {
   "cell_type": "raw",
   "id": "ba228505-a416-4f42-9712-261b2acfd83b",
   "metadata": {},
   "source": [
    "Q2. What is the difference between string and variable?\n"
   ]
  },
  {
   "cell_type": "code",
   "execution_count": null,
   "id": "3df3c735-d3a7-445f-90f5-6469e68f05a1",
   "metadata": {},
   "outputs": [],
   "source": [
    "# Answer 2.\n",
    "\n",
    "# String\n",
    "my_string = \"Hello, World!\"\n",
    "\n",
    "# Variable\n",
    "x = 10\n",
    "y = 5\n",
    "sum_result = x + y\n",
    "\n",
    "# In this example\n",
    "\n",
    "# 'my_string' is a variable of string type that holds the value \"Hello, World!\"\n",
    "# 'x' and 'y' are variables that hold integer values, and 'sum_result' is a variable that holds the result of the addition operation.\n",
    "\n"
   ]
  },
  {
   "cell_type": "raw",
   "id": "43ad334d-66ee-42ad-babf-258ebad974f4",
   "metadata": {},
   "source": [
    "Q3. Describe three different data types.\n"
   ]
  },
  {
   "cell_type": "code",
   "execution_count": null,
   "id": "43c8cb31-bfde-4b2d-a1e9-c7828f0c9e90",
   "metadata": {},
   "outputs": [],
   "source": [
    "# Answer 3.\n",
    "\n",
    "# These are three basic examples of data types.\n",
    "\n",
    "# 1. Integer (int):\n",
    "# An integer data type represents whole numbers without any decimal point. It can include positive numbers, negative numbers, and zero.\n",
    "\n",
    "# 2. Float (float):\n",
    "# It Represents numbers with decimal points, allowing for fractional values and greater precision than integers.\n",
    "\n",
    "# String:\n",
    "# Represents sequences of characters, such as text or symbols, used for handling textual data."
   ]
  },
  {
   "cell_type": "raw",
   "id": "3019babc-1fc7-4ee5-9fbe-b2238e270764",
   "metadata": {},
   "source": [
    "Q4. What is an expression made up of? What do all expressions do?\n"
   ]
  },
  {
   "cell_type": "code",
   "execution_count": null,
   "id": "d5915b17-00d3-442f-99d4-4db020076d3c",
   "metadata": {},
   "outputs": [],
   "source": [
    "# Answer 4.\n",
    "\n",
    "# An expression is a combination of values, variables, operators, and functions that, when evaluated, produces a single value.\n",
    "# Expressions are used in programming to perform calculations, comparisons, or to generate new values based on existing ones. \n",
    "\n",
    "# What expressions do:\n",
    "\n",
    "# Calculate Values: Expressions are used to perform calculations.\n",
    "# Comparison: Expressions can be used to compare values, making it possible to determine whether one value is equal to, greater than, or less than another value.\n",
    "# Control Flow: In conditional statements (if-else, switch), expressions are used to determine the branching of the program's execution based on the evaluation of conditions."
   ]
  },
  {
   "cell_type": "raw",
   "id": "18ef9679-53b6-4099-8cb4-ca6b0ac1653e",
   "metadata": {},
   "source": [
    "Q5. This assignment statements, like spam = 10. What is the difference between an expression and a statement?\n"
   ]
  },
  {
   "cell_type": "code",
   "execution_count": null,
   "id": "e52ba885-7dda-47a2-a69f-c562410f6fd1",
   "metadata": {},
   "outputs": [],
   "source": [
    "# Answer 5.\n",
    "\n",
    "# An expression and a statement are two fundamental concepts in programming, and they serve different purposes within a program.\n",
    "\n",
    "# Difference between Expression and Statement:\n",
    "\n",
    "# Expression: Computed value is the main goal. Expressions are used to calculate and produce results.\n",
    "# Examples of expressions:\n",
    "\n",
    "5 + 3\n",
    "x * y\n",
    "len(\"hello\")\n",
    "(a > b)\n",
    "\n",
    "# Statement: Performing an action or causing an effect is the main goal. Statements are used to control the flow of the program, change variables, or interact with the environment.\n",
    "# Examples of statements:\n",
    "\n",
    "Assignment statements: spam = 10\n",
    "Conditional statements: if x > 0:\n",
    "Loop statements: for item in list:\n",
    "Function definition: def my_function():\n",
    "\n",
    "# In the assignment statement spam = 10, spam is a variable, and 10 is an expression that produces a value.\n"
   ]
  },
  {
   "cell_type": "raw",
   "id": "f9793898-4292-414e-91c6-41c6fa71f4e6",
   "metadata": {},
   "source": [
    "Q6. After running the following code, what does the variable bacon contain?\n",
    "bacon = 22\n",
    "bacon + 1"
   ]
  },
  {
   "cell_type": "code",
   "execution_count": null,
   "id": "cd853912-5210-40f9-ade8-d7573d7f3391",
   "metadata": {},
   "outputs": [],
   "source": [
    "# Answer 6.\n",
    "\n",
    "bacon = 22\n",
    "bacon + 1\n",
    "\n",
    "# After running the given code, the variable bacon will still contain the value 22.\n",
    "# The expression bacon + 1 evaluates to 23, but the result of that expression is not assigned back to the variable bacon\n",
    "# so the value of bacon remains unchanged at 22.\n"
   ]
  },
  {
   "cell_type": "raw",
   "id": "e068f8f7-217e-475e-b329-58f08bb6aa55",
   "metadata": {},
   "source": [
    "Q7. What should the values of the following two terms be?\n",
    "'spam' + 'spamspam'\n",
    "'spam' * 3\n"
   ]
  },
  {
   "cell_type": "code",
   "execution_count": null,
   "id": "424d170e-db78-456d-a42b-834b46ca1223",
   "metadata": {},
   "outputs": [],
   "source": [
    "# Answer 7.\n",
    "\n",
    "#The values of the two terms would be:\n",
    "\n",
    "'spam' + 'spamspam' evaluates to 'spamspamspam'.\n",
    "'spam' * 3 evaluates to 'spamspamspam'.\n",
    "\n",
    "# In both cases, the result is the same string 'spamspamspam'."
   ]
  },
  {
   "cell_type": "raw",
   "id": "71524222-3591-499a-9b41-f5fe40434be4",
   "metadata": {},
   "source": [
    "Q8. Why is eggs a valid variable name while 100 is invalid?\n"
   ]
  },
  {
   "cell_type": "code",
   "execution_count": null,
   "id": "1491361c-55f8-411a-b9ac-b9042ee2a6f9",
   "metadata": {},
   "outputs": [],
   "source": [
    "# Answer 8.\n",
    "\n",
    "# 'eggs' is a valid variable name because it adheres to the rules, 100 is not valid due to its starting character being a number.\n",
    "\n",
    "# 'eggs': This is a valid variable name because it starts with a letter (e) and is followed by letters only. It does not conflict with any keywords.\n",
    "# '100': This is an invalid variable name because it starts with a number (1). Variable names must start with a letter or an underscore. Numbers are not allowed as the first character."
   ]
  },
  {
   "cell_type": "raw",
   "id": "53eeb3a1-4fb6-4f03-8e72-a47c15ec3ddb",
   "metadata": {},
   "source": [
    "Q9. What three functions can be used to get the integer, floating-point number, or string version of a value?\n"
   ]
  },
  {
   "cell_type": "code",
   "execution_count": 6,
   "id": "5cae9f15-9fa7-4c72-be23-f7d92bab3ea1",
   "metadata": {},
   "outputs": [],
   "source": [
    "# Answer 9.\n",
    "\n",
    "# In Python, you can use the following functions to convert a value to its integer, floating-point number, or string version:\n",
    "\n",
    "# int(): This function is used to convert a value to an integer. It can be used to convert strings containing integer representations to actual integers.\n",
    "\n",
    "int_value = int(\"42\")\n",
    "\n",
    "# float(): This function is used to convert a value to a floating-point number. It can be used to convert strings containing floating-point representations to actual floating-point numbers.\n",
    "\n",
    "float_value = float(\"3.14\")\n",
    "\n",
    "# str(): This function is used to convert a value to a string. It can be used to convert integers or floating-point numbers to their string representations.\n",
    "\n",
    "string_value = str(123)\n",
    "\n",
    "# These functions allow you to perform type conversions between integers, floating-point numbers."
   ]
  },
  {
   "cell_type": "raw",
   "id": "6b9bcd03-7218-49dd-8428-937a4c982376",
   "metadata": {},
   "source": [
    "Q10. Why does this expression cause an error? How can you fix it?\n",
    "'I have eaten ' + 99 + ' burritos.'\n"
   ]
  },
  {
   "cell_type": "code",
   "execution_count": 13,
   "id": "295bf7c8-381f-4739-b602-20005a90fb38",
   "metadata": {},
   "outputs": [
    {
     "name": "stdout",
     "output_type": "stream",
     "text": [
      "I have eaten99 burritos\n"
     ]
    }
   ],
   "source": [
    "# Answer 10.\n",
    "\n",
    "\"\"\"The expression 'I have eaten ' + 99 + ' burritos.'\n",
    "# causes an error because you are trying to concatenate a string ('I have eaten ') with an integer (99) directly using the + operator.\n",
    "# In Python, you can concatenate strings together using the + operator, but you cannot directly concatenate a string with a non-string type\n",
    "like an integer.\"\"\"\n",
    "\n",
    "Result = 'I have eaten' + str(99) + ' burritos'\n",
    "print(Result)"
   ]
  }
 ],
 "metadata": {
  "kernelspec": {
   "display_name": "Python 3 (ipykernel)",
   "language": "python",
   "name": "python3"
  },
  "language_info": {
   "codemirror_mode": {
    "name": "ipython",
    "version": 3
   },
   "file_extension": ".py",
   "mimetype": "text/x-python",
   "name": "python",
   "nbconvert_exporter": "python",
   "pygments_lexer": "ipython3",
   "version": "3.10.6"
  }
 },
 "nbformat": 4,
 "nbformat_minor": 5
}
