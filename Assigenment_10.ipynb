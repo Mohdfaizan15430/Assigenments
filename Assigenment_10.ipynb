{
 "cells": [
  {
   "cell_type": "markdown",
   "id": "392e0496-024e-430c-8385-a765ccc79bc7",
   "metadata": {},
   "source": [
    "Q.1. What is the role of try and exception block?"
   ]
  },
  {
   "cell_type": "code",
   "execution_count": null,
   "id": "eea59b30-b130-4ac9-9446-875d6fe68028",
   "metadata": {},
   "outputs": [],
   "source": [
    "# Answer 1.\n",
    "\n",
    "\"\"\"The try and except blocks in Python are used for exception handling, \n",
    "a mechanism to deal with runtime errors or exceptional \n",
    "situations that may occur during the execution of a program.\"\"\"\n",
    "\n",
    "# Try Block:\n",
    "try:\n",
    "    # Code that might raise an exception\n",
    "    result = 10 / 0\n",
    "except ZeroDivisionError:\n",
    "    # Code to handle the exception\n",
    "    print(\"Error: Division by zero!\")\n",
    "    \n",
    "# Except Block:\n",
    "try:\n",
    "    result = 10 / 0\n",
    "except ZeroDivisionError:\n",
    "    print(\"Error: Division by zero!\")"
   ]
  },
  {
   "cell_type": "markdown",
   "id": "1a407dd2-7c6c-42be-bef8-4cc39df1c313",
   "metadata": {},
   "source": [
    "Q.2. What is the syntax for a basic try-except block?"
   ]
  },
  {
   "cell_type": "code",
   "execution_count": null,
   "id": "69d6a92f-21e8-4f8c-a26a-ab676e11f2a4",
   "metadata": {},
   "outputs": [],
   "source": [
    "# Answer 2.\n",
    "\n",
    "# The basic syntax for a \"try\"\"-\"'except\" block in Python is as follows:\n",
    "\n",
    "try:\n",
    "    result = 10 / 0  # This will raise a ZeroDivisionError\n",
    "except ZeroDivisionError as e:\n",
    "    print(f\"Error: {e}\")"
   ]
  },
  {
   "cell_type": "markdown",
   "id": "c42779f0-936d-456c-b5ed-b369fa54dfd3",
   "metadata": {},
   "source": [
    "Q.3. What happens if an exception occurs inside a try block and there is no matching\n",
    "except block?"
   ]
  },
  {
   "cell_type": "code",
   "execution_count": null,
   "id": "1c5b30bf-3699-4b97-9af2-93d1eea9664e",
   "metadata": {},
   "outputs": [],
   "source": [
    "# Answer 3.\n",
    "\n",
    "try:\n",
    "    result = 10 / 0  # This will raise a ZeroDivisionError\n",
    "except ValueError:\n",
    "    # This except block does not match the type of exception raised\n",
    "    print(\"This block won't be executed\")"
   ]
  },
  {
   "cell_type": "markdown",
   "id": "9625c89f-d5a6-42ac-9a3f-b2a97f7cfacd",
   "metadata": {},
   "source": [
    "Q.4. What is the difference between using a bare except block and specifying a specific\n",
    "exception type?"
   ]
  },
  {
   "cell_type": "code",
   "execution_count": null,
   "id": "80265885-db34-47f3-8568-98d4bed6a707",
   "metadata": {},
   "outputs": [],
   "source": [
    "# Answer 4.\n",
    "\n",
    "# Specific Exception Type:\n",
    "try:\n",
    "    result = int(\"abc\")  # This will raise a ValueError\n",
    "except ValueError as e:\n",
    "    print(f\"Error: {e}\")\n",
    "    \n",
    "# Bare except:\n",
    "ry:\n",
    "    result = int(\"abc\")  # This will raise a ValueError\n",
    "except:\n",
    "    print(\"An error occurred\")"
   ]
  },
  {
   "cell_type": "markdown",
   "id": "a1614f50-dd6f-4107-b4d4-315a94b423c3",
   "metadata": {},
   "source": [
    "Q.5. Can you have nested try-except blocks in Python? If yes, then give an example."
   ]
  },
  {
   "cell_type": "code",
   "execution_count": null,
   "id": "b922cd91-34bf-4201-9968-b90e3aeeaa50",
   "metadata": {},
   "outputs": [],
   "source": [
    "# Answer 5.\n",
    "\n",
    "# The example of nested try-except blocks:\n",
    "\n",
    "try:\n",
    "    # Outer try block\n",
    "    x = int(input(\"Enter a number: \"))\n",
    "    \n",
    "    try:\n",
    "        # Inner try block\n",
    "        result = 10 / x\n",
    "        print(f\"Result: {result}\")\n",
    "        \n",
    "    except ZeroDivisionError:\n",
    "        # Handle division by zero error within the inner try block\n",
    "        print(\"Error: Division by zero within the inner block\")\n",
    "\n",
    "except ValueError:\n",
    "    # Handle invalid input (non-integer) within the outer try block\n",
    "    print(\"Error: Please enter a valid integer\")\n",
    "\n",
    "except Exception as e:\n",
    "    # Handle other types of exceptions in the outer try block\n",
    "    print(f\"An error occurred: {e}\")"
   ]
  },
  {
   "cell_type": "markdown",
   "id": "da501bd3-7182-4bd7-87eb-9f786ecd463e",
   "metadata": {},
   "source": [
    "Q.6. Can we use multiple exception blocks, if yes then give an example."
   ]
  },
  {
   "cell_type": "code",
   "execution_count": null,
   "id": "0839397e-bf00-4763-b138-2ef2519ff9ca",
   "metadata": {},
   "outputs": [],
   "source": [
    "# Answer 6.\n",
    "\n",
    "\"\"\"Yes, We can use multiple except blocks to handle different types of exceptions in Python.\n",
    "This allows you to provide specific handling for various exceptional situations that might arise in your code.\"\"\"\n",
    "\n",
    "try:\n",
    "    x = int(input(\"Enter a number: \"))\n",
    "    result = 10 / x\n",
    "    print(f\"Result: {result}\")\n",
    "\n",
    "except ValueError:\n",
    "    print(\"Error: Please enter a valid integer\")\n",
    "\n",
    "except ZeroDivisionError:\n",
    "    print(\"Error: Division by zero\")\n",
    "\n",
    "except Exception as e:\n",
    "    print(f\"An error occurred: {e}\")"
   ]
  },
  {
   "cell_type": "markdown",
   "id": "77e30ce0-0093-4104-ad51-de0dfd54a2d5",
   "metadata": {},
   "source": [
    "Q.7. Write the reason due to which following errors are raised:\n",
    "a. EOFError\n",
    "b. FloatingPointError\n",
    "c. IndexError\n",
    "d. MemoryError\n",
    "e. OverflowError\n",
    "f. TabError\n",
    "g. ValueError"
   ]
  },
  {
   "cell_type": "code",
   "execution_count": null,
   "id": "b3894933-900f-495b-a5d6-8d4a7062ca24",
   "metadata": {},
   "outputs": [],
   "source": [
    "# Answer 7.\n",
    "\n",
    "# the reasons for each of the specified errors:\n",
    "\n",
    "#A. EOFError (End of File Error):\n",
    "\"\"\"Raised when the input() function hits an end-of-file condition without reading any data.\"\"\"\n",
    "\n",
    "#B. FloatingPointError:\n",
    "\"\"\"Raised when a floating-point operation (e.g., division by zero or overflow during exponentiation) \n",
    "results in an undefined or unrepresentable value.\"\"\"\n",
    "\n",
    "#C. IndexError:\n",
    "\"\"\"Raised when a sequence subscript is out of range. For example, \n",
    "trying to access an element at an index that doesn't exist in a list or a tuple.\"\"\"\n",
    "\n",
    "#D. MemoryError:\n",
    "\"\"\"Raised when an operation runs out of memory, indicating that the Python interpreter cannot allocate\n",
    "more memory for the program.\"\"\"\n",
    "\n",
    "#E. OverflowError:\n",
    "\"\"\"Raised when the result of an arithmetic operation exceeds the limits of the data type.\n",
    "For example, trying to represent a very large integer that exceeds the maximum allowable value.\"\"\"\n",
    "\n",
    "#F. TabError:\n",
    "\"\"\"Raised when inconsistent use of tabs and spaces is detected. \n",
    "This usually occurs when indentation is not properly aligned in Python code, \n",
    "particularly when mixing tabs and spaces.\"\"\"\n",
    "\n",
    "#G. ValueError:\n",
    "\"\"\"Raised when a function receives an argument of the correct type but with an invalid value. \n",
    "For example, trying to convert a string to an integer where the string is not a valid integer representation.\"\"\""
   ]
  },
  {
   "cell_type": "markdown",
   "id": "17b58b05-b7c8-4b90-948c-a4d95ecf17a0",
   "metadata": {},
   "source": [
    "Q.8. Write code for the following given scenario and add try-exception block to it.\n",
    "a. Program to divide two numbers\n",
    "b. Program to convert a string to an integer\n",
    "c. Program to access an element in a list\n",
    "d. Program to handle a specific exception\n",
    "e. Program to handle any exception"
   ]
  },
  {
   "cell_type": "code",
   "execution_count": null,
   "id": "73eda007-5f87-4cf5-acc5-549fa8f20793",
   "metadata": {},
   "outputs": [],
   "source": [
    "# Answer 8.\n",
    "\n",
    "#A. Program to divide two numbers:\n",
    "def divide_numbers(a, b):\n",
    "    try:\n",
    "        result = a / b\n",
    "        print(f\"Result of division: {result}\")\n",
    "    except ZeroDivisionError:\n",
    "        print(\"Error: Division by zero is not allowed\")\n",
    "\n",
    "# Example usage:\n",
    "divide_numbers(10, 2)\n",
    "divide_numbers(5, 0)\n",
    "\n",
    "\n",
    "#B. Program to convert a string to an integer:\n",
    "def convert_to_integer(value):\n",
    "    try:\n",
    "        integer_value = int(value)\n",
    "        print(f\"Converted integer value: {integer_value}\")\n",
    "    except ValueError:\n",
    "        print(\"Error: Not a valid integer\")\n",
    "\n",
    "# Example usage:\n",
    "convert_to_integer(\"123\")\n",
    "convert_to_integer(\"abc\")\n",
    "\n",
    "\n",
    "#C. Program to access an element in a list:\n",
    "def access_list_element(my_list, index):\n",
    "    try:\n",
    "        value = my_list[index]\n",
    "        print(f\"Value at index {index}: {value}\")\n",
    "    except IndexError:\n",
    "        print(\"Error: Index out of range\")\n",
    "\n",
    "# Example usage:\n",
    "my_list = [1, 2, 3, 4, 5]\n",
    "access_list_element(my_list, 2)\n",
    "access_list_element(my_list, 10)\n",
    "\n",
    "\n",
    "#D. Program to handle a specific exception:\n",
    "def handle_specific_exception():\n",
    "    try:\n",
    "        # Code that might raise a specific exception\n",
    "        raise ValueError(\"This is a specific exception\")\n",
    "    except ValueError as e:\n",
    "        print(f\"Caught a ValueError: {e}\")\n",
    "\n",
    "# Example usage:\n",
    "handle_specific_exception()\n",
    "\n",
    "\n",
    "#E. Program to handle any exception:\n",
    "def handle_any_exception(value):\n",
    "    try:\n",
    "        result = 10 / value\n",
    "        print(f\"Result: {result}\")\n",
    "    except Exception as e:\n",
    "        print(f\"An error occurred: {e}\")\n",
    "\n",
    "# Example usage:\n",
    "handle_any_exception(2)\n",
    "handle_any_exception(0)"
   ]
  }
 ],
 "metadata": {
  "kernelspec": {
   "display_name": "Python 3 (ipykernel)",
   "language": "python",
   "name": "python3"
  },
  "language_info": {
   "codemirror_mode": {
    "name": "ipython",
    "version": 3
   },
   "file_extension": ".py",
   "mimetype": "text/x-python",
   "name": "python",
   "nbconvert_exporter": "python",
   "pygments_lexer": "ipython3",
   "version": "3.10.6"
  }
 },
 "nbformat": 4,
 "nbformat_minor": 5
}
