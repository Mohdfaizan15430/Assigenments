{
 "cells": [
  {
   "cell_type": "raw",
   "id": "b52d7ca4-340d-473d-9a69-f8d5b41764f8",
   "metadata": {},
   "source": [
    "Q1. What does an empty dictionary's code look like?"
   ]
  },
  {
   "cell_type": "code",
   "execution_count": null,
   "id": "171d4bcc-fb5d-48c2-ae3c-d612b914fd18",
   "metadata": {},
   "outputs": [],
   "source": [
    "# Answer 1.\n",
    "\n",
    "# In the Python, an empty dictionary is created using curly braces {}. \n",
    "\n",
    "empty_dict = {}"
   ]
  },
  {
   "cell_type": "raw",
   "id": "24080422-3f26-4575-bc29-c78c230b800c",
   "metadata": {},
   "source": [
    "Q2. What is the value of a dictionary value with the key 'foo' and the value 42?"
   ]
  },
  {
   "cell_type": "code",
   "execution_count": null,
   "id": "769f9617-4fb7-4267-8428-9d50543848d1",
   "metadata": {},
   "outputs": [],
   "source": [
    "# Answer 2.\n",
    "\n",
    "# In the Python dictionaries, values are associated with keys. If we have a dictionary with the key 'foo' and the value 42, \n",
    "\n",
    "my_dict = {'foo': 42}\n",
    "\n",
    "# The value associated with the key 'foo' is 42\n",
    "\n",
    "value = my_dict['foo']\n",
    "\n",
    "# The variable value would be assigned the value 42."
   ]
  },
  {
   "cell_type": "raw",
   "id": "f13fe190-d9f0-41bc-9fee-7d6db766527b",
   "metadata": {},
   "source": [
    "Q3. What is the most significant distinction between a dictionary and a list?"
   ]
  },
  {
   "cell_type": "code",
   "execution_count": null,
   "id": "4a2bbdd1-1363-426b-a926-a7fe0b24f055",
   "metadata": {},
   "outputs": [],
   "source": [
    "# Answer 3.\n",
    "\n",
    "# The most significant distinction between a dictionary and a list in Python is how they store and access data:\n",
    "\n",
    "# Data Storage:\n",
    "# Dictionary: A dictionary stores data as key-value pairs. Each key is unique and maps to a specific value.Keys in a dictionary are unordered.\n",
    "# List: A list stores data as an ordered sequence. The elements in a list are indexed based on their position, and each element can be of any data type.\n",
    "\n",
    "# Accessing Data:\n",
    "# Dictionary: Data in a dictionary is accessed using keys. You provide the key to retrieve the corresponding value.\n",
    "# List: Data in a list is accessed using indices (positions). You provide the index to retrieve the element at that position.\n",
    "\n",
    "# Dictionary\n",
    "my_dict = {'name': 'Alice', 'age': 30, 'city': 'New York'}\n",
    "print(my_dict['name'])  # Accessing value using key\n",
    "\n",
    "# List\n",
    "my_list = [10, 20, 30, 40, 50]\n",
    "print(my_list[2])  # Accessing element using index"
   ]
  },
  {
   "cell_type": "raw",
   "id": "911845b8-d7b8-4989-83b2-044007ab06f9",
   "metadata": {},
   "source": [
    "Q4. What happens if you try to access spam['foo'] if spam is {'bar': 100}?"
   ]
  },
  {
   "cell_type": "code",
   "execution_count": null,
   "id": "26747e6d-841a-4d29-a3ed-aed60681812d",
   "metadata": {},
   "outputs": [],
   "source": [
    "# Answer 4.\n",
    "\n",
    "# If we try to access spam['foo'] and spam is {'bar': 100}, we will get a KeyError because the key 'foo' does not exist in the dictionary spam.\n",
    "\n",
    "spam = {'bar': 100}\n",
    "value = spam['foo']  # This will raise a KeyError\n",
    "\n",
    "# The KeyError is raised because you're trying to access a key that is not present in the dictionary.\n",
    "# we can use the get() method to provide a default value if the key is not found:\n",
    "\n",
    "value = spam.get('foo', \"Key not found\")\n",
    "print(value)  # This will print \"Key not found\"\n",
    "\n",
    "\"\"\"If the key 'foo' is not found in the dictionary, the get() method will return the default value\n",
    "\"Key not found\" instead of raising a KeyError.\"\"\""
   ]
  },
  {
   "cell_type": "raw",
   "id": "8137902a-69a3-497b-934b-00239502dafa",
   "metadata": {},
   "source": [
    "Q5. If a dictionary is stored in spam, what is the difference between the expressions 'cat' in spam and 'cat' in spam.keys()?"
   ]
  },
  {
   "cell_type": "code",
   "execution_count": null,
   "id": "1455d04b-9d54-4303-a8ba-773e4856b2d8",
   "metadata": {},
   "outputs": [],
   "source": [
    "# Answer 5.\n",
    "\n",
    "\"\"\"In the Python,both 'cat' in spam and 'cat' in spam.keys() are expressions that check for the presence of the key \n",
    "'cat' in the dictionary stored in the variable spam. However, there is a subtle difference between the two expressions:.\"\"\"\n",
    "\n",
    "# 'cat' in spam:\n",
    "\"\"\" 'cat' in spam: This checks if the key 'cat' exists in the dictionary spam. If 'cat' is a key in spam, \n",
    "this expression will return True; otherwise, it will return False.\"\"\"\n",
    "\n",
    "# 'cat' in spam.keys():\n",
    "\"\"\" 'cat' in spam.keys(): This checks if the key 'cat' exists in the set of keys of the dictionary spam. \n",
    "If 'cat' is a key in spam, this expression will return True; otherwise, it will return False.\"\"\"\n",
    "\n",
    "spam = {'cat': 5, 'dog': 3, 'rabbit': 2}\n",
    "\n",
    "# Using 'cat' in spam\n",
    "if 'cat' in spam:\n",
    "    print(\"Cat is in the dictionary\")\n",
    "\n",
    "# Using 'cat' in spam.keys()\n",
    "if 'cat' in spam.keys():\n",
    "    print(\"Cat is in the dictionary\")"
   ]
  },
  {
   "cell_type": "raw",
   "id": "f651c006-8e15-4457-88a0-1c13113e5d4b",
   "metadata": {},
   "source": [
    "Q6. If a dictionary is stored in spam, what is the difference between the expressions 'cat' in spam and 'cat' in spam.values()?"
   ]
  },
  {
   "cell_type": "code",
   "execution_count": null,
   "id": "e981fe83-0845-4e78-9c41-f26f4bbd88a0",
   "metadata": {},
   "outputs": [],
   "source": [
    "# Answer 6.\n",
    "\n",
    "\"\"\"In the Python, 'cat' in spam and 'cat' in spam.values() are expressions that check for the presence of the value \n",
    "'cat' within the values of the dictionary stored in the variable spam. \n",
    "However, there is a distinction between these two expressions:\"\"\"\n",
    "\n",
    "# 'cat' in spam:\n",
    "# This expression checks if the key 'cat' exists in the dictionary spam.\n",
    "\n",
    "\n",
    "# 'cat' in spam.values():\n",
    "# This expression checks if the value 'cat' exists within the values of the dictionary spam.\n",
    "\n",
    "spam = {'animal': 'cat', 'color': 'black', 'size': 'small'}\n",
    "\n",
    "# Using 'cat' in spam (checking keys)\n",
    "if 'cat' in spam:\n",
    "    print(\"Key 'cat' is in the dictionary\")\n",
    "\n",
    "# Using 'cat' in spam.values() (checking values)\n",
    "if 'cat' in spam.values():\n",
    "    print(\"Value 'cat' is in the dictionary\")\n",
    "    \n",
    "# 'cat' in spam checks if 'cat' is a key in the dictionary, while 'cat' in spam.values() checks if 'cat' is a value in the dictionary."
   ]
  },
  {
   "cell_type": "raw",
   "id": "9d991cf2-e2fd-4554-aee9-0a87f06396de",
   "metadata": {},
   "source": [
    "Q7. What is a shortcut for the following code?\n",
    "\n",
    "if 'color' not in spam:\n",
    "spam['color'] = 'black'"
   ]
  },
  {
   "cell_type": "code",
   "execution_count": null,
   "id": "14e4df63-7446-49d0-9e54-6ff008700a0c",
   "metadata": {},
   "outputs": [],
   "source": [
    "# Answer 7.\n",
    "\n",
    "# We can use the setdefault() method to achieve the same result in a more concise way.\n",
    "\n",
    "spam.setdefault('color', 'black')\n",
    "\n",
    "\"\"\" if the key 'color' is not in the dictionary spam. If it's not present, it sets the key 'color' with the value 'black'. \n",
    "If the key 'color' already exists, the code does nothing and does not change the existing value.\"\"\"\n",
    "\n",
    "# this setdefault() line essentially accomplishes the same thing as the if-else block you provided, but in a more compact form."
   ]
  },
  {
   "cell_type": "raw",
   "id": "d36a314c-5a5b-4439-9888-3f99b270f6ca",
   "metadata": {},
   "source": [
    "Q8. How do you \"pretty print\" dictionary values using which module and function?"
   ]
  },
  {
   "cell_type": "code",
   "execution_count": null,
   "id": "ad9385be-f160-44f5-a752-2abc2141d154",
   "metadata": {},
   "outputs": [],
   "source": [
    "# Answer 8.\n",
    "\n",
    "\"\"\"To \"pretty print\" dictionary values in Python, you can use the pprint module (pretty-print module), \n",
    "specifically the pprint() function. The pprint() function provides a way to display complex data structures \n",
    "like dictionaries in a more human-readable and organized format, especially when they contain nested structures.\"\"\"\n",
    "\n",
    "import pprint\n",
    "\n",
    "my_dict = {\n",
    "    'name': 'Alice',\n",
    "    'age': 30,\n",
    "    'address': {\n",
    "        'street': '123 Main St',\n",
    "        'city': 'New York',\n",
    "        'zip': '10001'\n",
    "    }\n",
    "}\n",
    "\n",
    "pprint.pprint(my_dict)\n",
    "\n",
    "\"\"\"The output of the pprint() function will format the dictionary in a more readable way, \n",
    "preserving the nested structure and providing line breaks and indentation.\"\"\""
   ]
  }
 ],
 "metadata": {
  "kernelspec": {
   "display_name": "Python 3 (ipykernel)",
   "language": "python",
   "name": "python3"
  },
  "language_info": {
   "codemirror_mode": {
    "name": "ipython",
    "version": 3
   },
   "file_extension": ".py",
   "mimetype": "text/x-python",
   "name": "python",
   "nbconvert_exporter": "python",
   "pygments_lexer": "ipython3",
   "version": "3.10.6"
  }
 },
 "nbformat": 4,
 "nbformat_minor": 5
}
