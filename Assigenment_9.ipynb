{
 "cells": [
  {
   "cell_type": "raw",
   "id": "53328db0-c559-47b7-8e64-de1f0b330cf4",
   "metadata": {},
   "source": [
    "Q.1. What is a lambda function in Python, and how does it differ from a regular function?"
   ]
  },
  {
   "cell_type": "code",
   "execution_count": null,
   "id": "6b060269-c1cc-47a9-a280-15586215da13",
   "metadata": {},
   "outputs": [],
   "source": [
    "# Answer 1.\n",
    "\n",
    "# In Python, a lambda function is a small anonymous function defined using the lambda keyword.\n",
    "# It is also sometimes referred to as a \"lambda expression.\"\n",
    "lambda arguments: expression\n",
    "\n",
    "# Here's an example of a lambda function that adds two numbers:\n",
    "\n",
    "add = lambda x, y: x + y\n",
    "result = add(3, 5)\n",
    "print(result)  # Output: 8"
   ]
  },
  {
   "cell_type": "raw",
   "id": "c89b6764-205f-4fab-af27-6afea13e6a3a",
   "metadata": {},
   "source": [
    "Q.2. Can a lambda function in Python have multiple arguments? If yes, how can you define and use\n",
    "them?"
   ]
  },
  {
   "cell_type": "code",
   "execution_count": null,
   "id": "aa1b5542-8374-41b8-975e-7eacba55ec73",
   "metadata": {},
   "outputs": [],
   "source": [
    "# Answer 2.\n",
    "\n",
    "# Yes, a lambda function in Python can have multiple arguments. \n",
    "# The syntax for a lambda function with multiple arguments is as follows:\n",
    "\n",
    "lambda arg1, arg2, ..., argn: expression\n",
    "\n",
    "\"\"\"You can define and use a lambda function with multiple arguments in the same way\n",
    "you would with a single argument. \n",
    "Here's an example of a lambda function with two arguments:\"\"\"\n",
    "\n",
    "multiply = lambda x, y: x * y\n",
    "result = multiply(3, 5)\n",
    "print(result)  # Output: 15\n",
    "\n",
    "# Here's an example with three arguments:\n",
    "\n",
    "add_three_numbers = lambda x, y, z: x + y + z\n",
    "result = add_three_numbers(2, 4, 6)\n",
    "print(result)  # Output: 12"
   ]
  },
  {
   "cell_type": "raw",
   "id": "3ded9818-f65e-48c7-9ac7-09cc30d20971",
   "metadata": {},
   "source": [
    "Q.3. How are lambda functions typically used in Python? Provide an example use case."
   ]
  },
  {
   "cell_type": "code",
   "execution_count": null,
   "id": "a66117b4-c918-4ccd-887b-3f2f91391ce4",
   "metadata": {},
   "outputs": [],
   "source": [
    "# Answer 3.\n",
    "\n",
    "\"\"\"Lambda functions in Python are typically used in situations where a small, \n",
    "anonymous function is needed for a short duration,\"\"\"\n",
    "\n",
    "# Map Function:\n",
    "numbers = [1, 2, 3, 4, 5]\n",
    "squared_numbers = list(map(lambda x: x**2, numbers))\n",
    "print(squared_numbers)  # Output: [1, 4, 9, 16, 25]\n",
    "\n",
    "# Filter Function:\n",
    "numbers = [1, 2, 3, 4, 5, 6, 7, 8, 9, 10]\n",
    "even_numbers = list(filter(lambda x: x % 2 == 0, numbers))\n",
    "print(even_numbers)  # Output: [2, 4, 6, 8, 10]\n",
    "\n",
    "# Sorting:\n",
    "students = [('Alice', 25), ('Bob', 20), ('Charlie', 22)]\n",
    "sorted_students = sorted(students, key=lambda x: x[1])\n",
    "print(sorted_students)\n",
    "# Output: [('Bob', 20), ('Charlie', 22), ('Alice', 25)]\n",
    "\n",
    "# Anonymous Functions:\n",
    "perform_operation = lambda x, y: x + y\n",
    "result = perform_operation(3, 5)\n",
    "print(result)  # Output: 8"
   ]
  },
  {
   "cell_type": "raw",
   "id": "82f84876-d10a-436a-b68e-2ade8c415caf",
   "metadata": {},
   "source": [
    "Q.4. What are the advantages and limitations of lambda functions compared to regular functions in\n",
    "Python?"
   ]
  },
  {
   "cell_type": "code",
   "execution_count": null,
   "id": "8344a845-c65a-4bb3-935f-3dd5a0fee4c2",
   "metadata": {},
   "outputs": [],
   "source": [
    "# Answer 4.\n",
    "\n",
    "# Advantages of Lambda Functions:\n",
    "\n",
    "#1 Conciseness:\n",
    "\"\"\"Lambda functions provide a concise syntax for defining small, one-time-use functions. \n",
    "This can lead to more readable and compact code, especially in situations where a full function definition\n",
    "might be overly verbose.\"\"\"\n",
    "#2 Readability in Higher-Order Functions:\n",
    "\"\"\"Lambda functions are often used as arguments for higher-order functions\n",
    "like map(), filter(), and sorted(). Using lambda functions inline can enhance readability in such cases,\n",
    "as the function logic is defined at the point of use.\"\"\"\n",
    "#3 No Need for a Name:\n",
    "\"\"\"Lambda functions are anonymous, meaning they don't require a formal name. \n",
    "This is beneficial when you only need a function for a short duration and don't want to clutter the \n",
    "namespace with a function name.\"\"\"\n",
    "\n",
    "\n",
    "# Limitations of Lambda Functions:\n",
    "\n",
    "#1 Limited Expressiveness:\n",
    "\"\"\"Lambda functions are limited in terms of expressiveness compared to regular functions defined with def. \n",
    "They can only consist of a single expression, which may limit their use for more complex logic.\"\"\"\n",
    "#2 Not Ideal for Recursive Functions:\n",
    "\"\"\"Lambda functions are not designed for recursive calls. \n",
    "If you need recursion, a regular function defined with def is more appropriate.\"\"\"\n",
    "#3 Limited to Single Line:\n",
    "\"\"\"Lambda functions are restricted to a single line of code. \n",
    "While this enforces simplicity, it can be a limitation \n",
    "when more complex logic or multiple statements are required.\"\"\""
   ]
  },
  {
   "cell_type": "raw",
   "id": "fc5b5e72-5a27-40a8-aaf7-b4846158f6ef",
   "metadata": {},
   "source": [
    "Q.5. Are lambda functions in Python able to access variables defined outside of their own scope?\n",
    "Explain with an example."
   ]
  },
  {
   "cell_type": "code",
   "execution_count": null,
   "id": "ed2faf16-7fa6-4802-a2f6-a8771f4af559",
   "metadata": {},
   "outputs": [],
   "source": [
    "# Answer 5.\n",
    "\n",
    "\"\"\"Yes, lambda functions in Python can access variables defined outside of their own scope. \n",
    "This is possible through a concept called \"lexical scoping\" or \"closure.\" A lambda function \n",
    "can access variables from the containing scope in which it was defined. \n",
    "The variables are remembered and can be used even if the lambda function is called outside that scope.\"\"\"\n",
    "\n",
    "def outer_function(x):\n",
    "    # Define a lambda function within the outer function\n",
    "    inner_lambda = lambda y: x + y\n",
    "    return inner_lambda\n",
    "\n",
    "# Create a closure by calling the outer function\n",
    "closure = outer_function(10)\n",
    "\n",
    "# Use the lambda function from the closure\n",
    "result = closure(5)\n",
    "print(result)  # Output: 15"
   ]
  },
  {
   "cell_type": "raw",
   "id": "174bf2b1-f800-497b-b650-2fdcb676f357",
   "metadata": {},
   "source": [
    "Q.6. Write a lambda function to calculate the square of a given number."
   ]
  },
  {
   "cell_type": "code",
   "execution_count": null,
   "id": "c8c2b0d8-3fd6-461c-b3de-81e4bb655c12",
   "metadata": {},
   "outputs": [],
   "source": [
    "# Answer 6.\n",
    "\n",
    "square = lambda x: x**2\n",
    "result = square(5)\n",
    "print(result)  # Output: 25"
   ]
  },
  {
   "cell_type": "raw",
   "id": "6963dc00-9bf2-44fb-836b-6ecdf068068f",
   "metadata": {},
   "source": [
    "Q.7. Create a lambda function to find the maximum value in a list of integers."
   ]
  },
  {
   "cell_type": "code",
   "execution_count": null,
   "id": "e5b8f133-328a-4fc7-8f75-8f4f8f61c237",
   "metadata": {},
   "outputs": [],
   "source": [
    "# Answer 7.\n",
    "\n",
    "# You can use the max() function along with a lambda function to find the maximum value in a list of integers.\n",
    "\n",
    "find_max = lambda lst: max(lst)\n",
    "numbers = [4, 12, 7, 9, 15, 5]\n",
    "max_value = find_max(numbers)\n",
    "print(max_value)  # Output: 15"
   ]
  },
  {
   "cell_type": "raw",
   "id": "d023309e-38d7-4aca-b4d3-702a6aa394f2",
   "metadata": {},
   "source": [
    "Q.8. Implement a lambda function to filter out all the even numbers from a list of integers."
   ]
  },
  {
   "cell_type": "code",
   "execution_count": null,
   "id": "65a3aa08-b607-441c-a37c-610d34df1d95",
   "metadata": {},
   "outputs": [],
   "source": [
    "# Answer 8.\n",
    "\n",
    "\"\"\"You can use the filter() function along with a lambda function \n",
    "to filter out all the even numbers from a list of integers.\"\"\"\n",
    "\n",
    "filter_even = lambda lst: list(filter(lambda x: x % 2 != 0, lst))\n",
    "numbers = [1, 2, 3, 4, 5, 6, 7, 8, 9, 10]\n",
    "filtered_numbers = filter_even(numbers)\n",
    "print(filtered_numbers)  # Output: [1, 3, 5, 7, 9]"
   ]
  },
  {
   "cell_type": "raw",
   "id": "40df66d6-5811-4b8f-bec5-5d91ff0ff42a",
   "metadata": {},
   "source": [
    "Q.9. Write a lambda function to sort a list of strings in ascending order based on the length of each\n",
    "string."
   ]
  },
  {
   "cell_type": "code",
   "execution_count": null,
   "id": "b756581f-d01e-438f-bb86-793b1b916dfe",
   "metadata": {},
   "outputs": [],
   "source": [
    "# Answer 9.\n",
    "\n",
    "\"\"\"You can use the \"sorted()\" function along with a lambda function\n",
    "as the \"key\" argument to sort a list of strings based on their length in ascending order.\"\"\"\n",
    "\n",
    "sort_by_length = lambda str_list: sorted(str_list, key=lambda x: len(x))\n",
    "strings = [\"apple\", \"banana\", \"kiwi\", \"orange\", \"grape\"]\n",
    "sorted_strings = sort_by_length(strings)\n",
    "print(sorted_strings)\n",
    "# Output: ['kiwi', 'apple', 'grape', 'banana', 'orange']"
   ]
  },
  {
   "cell_type": "raw",
   "id": "3097c2f1-f1a2-4231-adf0-f7719aef94e5",
   "metadata": {},
   "source": [
    "Q.10. Create a lambda function that takes two lists as input and returns a new list containing the\n",
    "common elements between the two lists."
   ]
  },
  {
   "cell_type": "code",
   "execution_count": null,
   "id": "569ac0ea-b586-4ede-9b89-4b882762ac76",
   "metadata": {},
   "outputs": [],
   "source": [
    "# Answer 10.\n",
    "\n",
    "find_common_elements = lambda list1, list2: list(filter(lambda x: x in list2, list1))\n",
    "list_a = [1, 2, 3, 4, 5]\n",
    "list_b = [3, 4, 5, 6, 7]\n",
    "common_elements = find_common_elements(list_a, list_b)\n",
    "print(common_elements)  # Output: [3, 4, 5]"
   ]
  },
  {
   "cell_type": "raw",
   "id": "440aaee4-de00-4b8b-aa77-0159365c1a90",
   "metadata": {},
   "source": [
    "Q.11. Write a recursive function to calculate the factorial of a given positive integer."
   ]
  },
  {
   "cell_type": "code",
   "execution_count": null,
   "id": "6f305609-15c7-4988-bd05-df0d465b947d",
   "metadata": {},
   "outputs": [],
   "source": [
    "# Answer 11.\n",
    "\n",
    "# example of a recursive function in Python to calculate the factorial of a given positive integer:\n",
    "\n",
    "def factorial(n):\n",
    "    # Base case: factorial of 0 or 1 is 1\n",
    "    if n == 0 or n == 1:\n",
    "        return 1\n",
    "    # Recursive case: n! = n * (n-1)!\n",
    "    else:\n",
    "        return n * factorial(n - 1)\n",
    "\n",
    "# Example usage:\n",
    "result = factorial(5)\n",
    "print(result)  # Output: 120"
   ]
  },
  {
   "cell_type": "markdown",
   "id": "5380527a-46ab-47b5-b55c-dcd319e36ace",
   "metadata": {},
   "source": [
    "Q.12. Implement a recursive function to compute the nth Fibonacci number."
   ]
  },
  {
   "cell_type": "code",
   "execution_count": null,
   "id": "dbf27723-8c4f-45d4-88a5-6b63ae2cccf2",
   "metadata": {},
   "outputs": [],
   "source": [
    "# Answer 12.\n",
    "\n",
    "# an example of a recursive function in Python to compute the nth Fibonacci number:\n",
    "\n",
    "def fibonacci(n):\n",
    "    # Base cases: fibonacci(0) is 0, fibonacci(1) is 1\n",
    "    if n == 0:\n",
    "        return 0\n",
    "    elif n == 1:\n",
    "        return 1\n",
    "    # Recursive case: fibonacci(n) = fibonacci(n-1) + fibonacci(n-2)\n",
    "    else:\n",
    "        return fibonacci(n - 1) + fibonacci(n - 2)\n",
    "\n",
    "# Example usage:\n",
    "result = fibonacci(6)\n",
    "print(result)  # Output: 8"
   ]
  },
  {
   "cell_type": "raw",
   "id": "93eaac02-94ca-4b10-b115-a02de6a0529c",
   "metadata": {},
   "source": [
    "Q.13. Create a recursive function to find the sum of all the elements in a given list."
   ]
  },
  {
   "cell_type": "code",
   "execution_count": null,
   "id": "ee1c01b5-dcd0-48eb-b16c-62a911602c3a",
   "metadata": {},
   "outputs": [],
   "source": [
    "# Answer 13.\n",
    "\n",
    "def list_sum_recursive(lst):\n",
    "    # Base case: an empty list has a sum of 0\n",
    "    if not lst:\n",
    "        return 0\n",
    "    # Recursive case: sum of the first element and the sum of the rest of the list\n",
    "    else:\n",
    "        return lst[0] + list_sum_recursive(lst[1:])\n",
    "\n",
    "# Example usage:\n",
    "numbers = [1, 2, 3, 4, 5]\n",
    "result = list_sum_recursive(numbers)\n",
    "print(result)  # Output: 15"
   ]
  },
  {
   "cell_type": "raw",
   "id": "20c6d5cb-2081-483b-9526-816219fcb280",
   "metadata": {},
   "source": [
    "Q.14. Write a recursive function to determine whether a given string is a palindrome."
   ]
  },
  {
   "cell_type": "code",
   "execution_count": null,
   "id": "2eaace62-4736-444e-800d-2fcc6887ff91",
   "metadata": {},
   "outputs": [],
   "source": [
    "# Answer 14.\n",
    "\n",
    "# an example of a recursive function in Python to determine whether a given string is a palindrome:\n",
    "\n",
    "def is_palindrome(s):\n",
    "    # Base case: an empty string or a string with one character is a palindrome\n",
    "    if len(s) <= 1:\n",
    "        return True\n",
    "    # Recursive case: compare the first and last characters, then check the rest\n",
    "    else:\n",
    "        return s[0] == s[-1] and is_palindrome(s[1:-1])\n",
    "\n",
    "# Example usage:\n",
    "string1 = \"radar\"\n",
    "string2 = \"hello\"\n",
    "print(is_palindrome(string1))  # Output: True\n",
    "print(is_palindrome(string2))  # Output: False"
   ]
  },
  {
   "cell_type": "raw",
   "id": "e9ea5176-f3c6-4dc4-a5f4-75c4a0d22ec5",
   "metadata": {},
   "source": [
    "Q.15. Implement a recursive function to find the greatest common divisor (GCD) of two positive integers."
   ]
  },
  {
   "cell_type": "code",
   "execution_count": null,
   "id": "b959ef29-3f4b-4b4c-86ab-0cb8f2b74c03",
   "metadata": {},
   "outputs": [],
   "source": [
    "# Answer 15.\n",
    "\n",
    "def gcd(a, b):\n",
    "    # Base case: GCD of a and 0 is a\n",
    "    if b == 0:\n",
    "        return a\n",
    "    # Recursive case: GCD of a and b is the same as GCD of b and remainder of a/b\n",
    "    else:\n",
    "        return gcd(b, a % b)\n",
    "\n",
    "# Example usage:\n",
    "result = gcd(48, 18)\n",
    "print(result)  # Output: 6"
   ]
  }
 ],
 "metadata": {
  "kernelspec": {
   "display_name": "Python 3 (ipykernel)",
   "language": "python",
   "name": "python3"
  },
  "language_info": {
   "codemirror_mode": {
    "name": "ipython",
    "version": 3
   },
   "file_extension": ".py",
   "mimetype": "text/x-python",
   "name": "python",
   "nbconvert_exporter": "python",
   "pygments_lexer": "ipython3",
   "version": "3.10.6"
  }
 },
 "nbformat": 4,
 "nbformat_minor": 5
}
