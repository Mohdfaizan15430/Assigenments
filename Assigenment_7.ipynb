{
 "cells": [
  {
   "cell_type": "raw",
   "id": "8307e31b-74f9-4310-890b-aa775c33e8db",
   "metadata": {},
   "source": [
    "Q.1. Create two int type variables, apply addition, subtraction, division and multiplications\n",
    "and store the results in variables. Then print the data in the following format by calling the\n",
    "variables:\n",
    "First variable is __ & second variable is __.\n",
    "Addition: __ + __ = __\n",
    "Subtraction: __ - __ = __\n",
    "Multiplication: __ * __ = __\n",
    "Division: __ / __ = __"
   ]
  },
  {
   "cell_type": "code",
   "execution_count": null,
   "id": "f5e2c75d-9953-4afd-b26b-d11de6c4d54d",
   "metadata": {},
   "outputs": [],
   "source": [
    "# Answer 1.\n",
    "\n",
    "# Create two int type variables\n",
    "first_variable = 10\n",
    "second_variable = 5\n",
    "\n",
    "# Perform arithmetic operations\n",
    "addition_result = first_variable + second_variable\n",
    "subtraction_result = first_variable - second_variable\n",
    "multiplication_result = first_variable * second_variable\n",
    "\n",
    "# Handle division by zero\n",
    "if second_variable != 0:\n",
    "    division_result = first_variable / second_variable\n",
    "else:\n",
    "    division_result = \"Cannot divide by zero\"\n",
    "\n",
    "# Print the results in the specified format\n",
    "print(f\"First variable is {first_variable} & second variable is {second_variable}.\")\n",
    "print(f\"Addition: {first_variable} + {second_variable} = {addition_result}\")\n",
    "print(f\"Subtraction: {first_variable} - {second_variable} = {subtraction_result}\")\n",
    "print(f\"Multiplication: {first_variable} * {second_variable} = {multiplication_result}\")\n",
    "print(f\"Division: {first_variable} / {second_variable} = {division_result}\")"
   ]
  },
  {
   "cell_type": "raw",
   "id": "a1f1269f-b6c6-4fa5-9146-f513b9d5d311",
   "metadata": {},
   "source": [
    "Q.2. What is the difference between the following operators:\n",
    "(i) ‘/’ & ‘//’\n",
    "(ii) ‘**’ & ‘^’"
   ]
  },
  {
   "cell_type": "code",
   "execution_count": 4,
   "id": "32cd4c93-6510-435f-a301-5f921f734cef",
   "metadata": {},
   "outputs": [],
   "source": [
    "# Answer 2.\n",
    "\n",
    "\n",
    "#(i) Difference between / and // operators:\n",
    "\n",
    "# \"/\": This is the division operator in Python. It performs regular division and returns a floating-point number.\n",
    "result = 5 / 2   # Result is 2.5\n",
    "\n",
    "# \"//\": This is the floor division operator. \n",
    "# It performs division and rounds down to the nearest whole number,returning an integer result.\n",
    "result = 5 // 2  # Result is 2\n",
    "\n",
    "#(ii) Difference between ** and ^ operators:\n",
    "\n",
    "# \"**\": This is the exponentiation operator in Python. It raises the left operand to the power of the right operand.\n",
    "result = 2 ** 3  # Result is 8 (2 raised to the power of 3)\n",
    "\n",
    "# \"^\": This is the bitwise XOR (exclusive or) operator in Python. \n",
    "# It performs a bitwise XOR operation on the binary representations of the operands.\n",
    "result = 2 ^ 3   # Result is 1 (binary XOR of 10 and 11)"
   ]
  },
  {
   "cell_type": "raw",
   "id": "cf5cf74d-1a55-4bf1-8c63-6c1e10fc6fe1",
   "metadata": {},
   "source": [
    "Q.3. List the logical operators."
   ]
  },
  {
   "cell_type": "code",
   "execution_count": 3,
   "id": "2e237147-1515-409f-9b4d-bb24f563d9bf",
   "metadata": {},
   "outputs": [],
   "source": [
    "# Answer 3.\n",
    "\n",
    "# In Python, the logical operators are used to perform logical operations between two or more Boolean values. \n",
    "# Here are the logical operators in Python:\n",
    "\n",
    "# \"and\": Returns True if both operands are True. Otherwise, it returns False.\n",
    "result = True and False  # Result is False\n",
    "\n",
    "# \"or\": Returns True if at least one of the operands is True.\n",
    "result = True or False   # Result is True\n",
    "\n",
    "# \"not\": Returns True if the operand is False and False if the operand is True. It is a unary operator.\n",
    "result = not True   # Result is False"
   ]
  },
  {
   "cell_type": "raw",
   "id": "fdcf5356-e5b9-4734-9255-331fc35c5126",
   "metadata": {},
   "source": [
    "Q.4. Explain right shift operator and left shift operator with examples."
   ]
  },
  {
   "cell_type": "code",
   "execution_count": null,
   "id": "5d5712f2-749d-4737-a099-2b39a49e089b",
   "metadata": {},
   "outputs": [],
   "source": [
    "# Answer 4.\n",
    "\n",
    "# In Python, the right shift (>>) and left shift (<<) operators are bitwise operators.\n",
    "# that perform shifting of bits to the right and left, respectively.\n",
    "\n",
    "# Right Shift Operator (>>):\n",
    "\"\"\"The right shift operator shifts the bits of the left operand to the right by the number of positions \n",
    "specified by the right operand. It fills the vacant positions on the left with the sign bit (the leftmost bit)\n",
    "for signed integers, or with zero for unsigned integers\"\"\"\n",
    "\n",
    "x = 8   # Binary representation: 0b1000\n",
    "result = x >> 2   # Right shift by 2 positions\n",
    "# Binary representation of result: 0b10, which is 2 in decimal\n",
    "print(result)     # Output: 2\n",
    "\n",
    "# Left Shift Operator (<<):\n",
    "\"\"\"The left shift operator shifts the bits of the left operand to the left by the number of positions \n",
    "specified by the right operand. It fills the vacant positions on the right with zeros.\"\"\"\n",
    "\n",
    "x = 8   # Binary representation: 0b1000\n",
    "result = x << 2   # Left shift by 2 positions\n",
    "# Binary representation of result: 0b100000, which is 32 in decimal\n",
    "print(result)     # Output: 32"
   ]
  },
  {
   "cell_type": "raw",
   "id": "fd8310c6-98ba-433e-96ba-8a7deb029c1a",
   "metadata": {},
   "source": [
    "Q.5. Create a list containing int type data of length 15. Then write a code to check if 10 is\n",
    "present in the list or not."
   ]
  },
  {
   "cell_type": "code",
   "execution_count": null,
   "id": "038dc8e1-0ed3-49a5-b104-54abdf4e66b7",
   "metadata": {},
   "outputs": [],
   "source": [
    "# Answer 5.\n",
    "\n",
    "# Create a list of integers\n",
    "my_list = [2, 5, 8, 10, 15, 20, 25, 30, 35, 40, 45, 50, 55, 60, 65]\n",
    "\n",
    "# Check if 10 is present in the list\n",
    "if 10 in my_list:\n",
    "    print(\"10 is present in the list.\")\n",
    "else:\n",
    "    print(\"10 is not present in the list.\")"
   ]
  }
 ],
 "metadata": {
  "kernelspec": {
   "display_name": "Python 3 (ipykernel)",
   "language": "python",
   "name": "python3"
  },
  "language_info": {
   "codemirror_mode": {
    "name": "ipython",
    "version": 3
   },
   "file_extension": ".py",
   "mimetype": "text/x-python",
   "name": "python",
   "nbconvert_exporter": "python",
   "pygments_lexer": "ipython3",
   "version": "3.10.6"
  }
 },
 "nbformat": 4,
 "nbformat_minor": 5
}
