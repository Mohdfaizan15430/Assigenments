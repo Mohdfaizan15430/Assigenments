{
 "cells": [
  {
   "cell_type": "raw",
   "id": "4bb39c23-64ca-4485-bad5-4b9a4e392a78",
   "metadata": {},
   "source": [
    "Q.1. What are keywords in python? Using the keyword library, print all the python keywords."
   ]
  },
  {
   "cell_type": "code",
   "execution_count": 7,
   "id": "dd74fbb6-fa8d-4fb1-87ba-d184d9f669d1",
   "metadata": {},
   "outputs": [
    {
     "name": "stdout",
     "output_type": "stream",
     "text": [
      "['False', 'None', 'True', 'and', 'as', 'assert', 'async', 'await', 'break', 'class', 'continue', 'def', 'del', 'elif', 'else', 'except', 'finally', 'for', 'from', 'global', 'if', 'import', 'in', 'is', 'lambda', 'nonlocal', 'not', 'or', 'pass', 'raise', 'return', 'try', 'while', 'with', 'yield']\n"
     ]
    }
   ],
   "source": [
    "# Answer 1.\n",
    "\n",
    "# Keywords in Python are reserved words that have special meanings and are used to define the syntax and structure of Python code.\n",
    "\n",
    "import keyword\n",
    "\n",
    "# Get the list of Python keywords\n",
    "python_keywords = keyword.kwlist\n",
    "\n",
    "# Print the list of keywords\n",
    "print(python_keywords)"
   ]
  },
  {
   "cell_type": "raw",
   "id": "e6050d79-f55a-420f-98af-790513880a24",
   "metadata": {},
   "source": [
    "Q.2. What are the rules to create variables in python?"
   ]
  },
  {
   "cell_type": "code",
   "execution_count": null,
   "id": "3940ac08-dc1e-4240-82e1-4d18ad8114aa",
   "metadata": {},
   "outputs": [],
   "source": [
    "# Answer 2.\n",
    "\n",
    "# In Python, variables are used to store data values. Here are the rules for creating variables.\n",
    "\n",
    "# Variable names must start with a letter (a-z, A-Z) or an underscore (_).\n",
    "# The remaining characters in the variable name can include letters, numbers (0-9), and underscores.\n",
    "# Variable names are case-sensitive, meaning \"myVar\" and \"myvar\" are treated as different variables.\n",
    "# Python keywords (reserved words like \"if,\" \"for,\" and \"while\") cannot be used as variable names.\n",
    "# Variable names should be descriptive and follow a naming convention (e.g., snake_case for most variables and CamelCase for classes).\n",
    "# Avoid using special characters or spaces in variable names to ensure readability and compatibility."
   ]
  },
  {
   "cell_type": "raw",
   "id": "758aa013-9eb8-46d1-a7bc-968d3537d73f",
   "metadata": {},
   "source": [
    "Q.3. What are the standards and conventions followed for the nomenclature of variables in\n",
    "python to improve code readability and maintainability?"
   ]
  },
  {
   "cell_type": "code",
   "execution_count": null,
   "id": "fc80ec1b-b259-45c1-a9a2-1080e5ba1734",
   "metadata": {},
   "outputs": [],
   "source": [
    "# Answer 3.\n",
    "\n",
    "# In Python, adhering to naming standards and conventions enhances code readability and maintainability.\n",
    "\n",
    "# Snake Case: Variable names typically use lowercase letters and underscores (e.g., my_variable) for improved readability.\n",
    "# Camel Case: Used for class names, where each word starts with a capital letter (e.g., MyClass).\n",
    "# UPPERCASE: Constants are often named in all uppercase letters with underscores (e.g., PI).\n",
    "# Descriptive Names: Choose meaningful names that describe the variable's purpose, making code self-explanatory.\n",
    "# Avoid Single-Character Names: Use descriptive names instead of single letters (e.g., count instead of c).\n",
    "# Consistency: Maintain consistent naming throughout your codebase to reduce confusion."
   ]
  },
  {
   "cell_type": "raw",
   "id": "51b42174-2ac7-407e-8328-dd355cf2be4a",
   "metadata": {},
   "source": [
    "Q.4. What will happen if a keyword is used as a variable name?"
   ]
  },
  {
   "cell_type": "code",
   "execution_count": null,
   "id": "15bef43d-ceae-41f4-83c8-93eb1d8dfcd7",
   "metadata": {},
   "outputs": [],
   "source": [
    "# Answer 4.\n",
    "\n",
    "\"\"\"If a keyword is used as a variable name in Python, it will result in a syntax error. \n",
    "Python's keywords are reserved for specific purposes and cannot be redefined as variables or identifiers. \n",
    "Attempting to use a keyword as a variable name will lead to a \"SyntaxError\" and the code will not run. \n",
    "It's important to avoid using keywords as variable names to ensure the proper functioning of your Python code.\"\"\""
   ]
  },
  {
   "cell_type": "raw",
   "id": "ecad50ef-5b5a-4ff0-9492-282739f28952",
   "metadata": {},
   "source": [
    "Q.5. For what purpose def keyword is used?"
   ]
  },
  {
   "cell_type": "code",
   "execution_count": null,
   "id": "fe81f05c-b648-490b-b096-acb4042b6c71",
   "metadata": {},
   "outputs": [],
   "source": [
    "# Answer 5.\n",
    "\n",
    "\"\"\"In Python, the \"def\" keyword is used to define functions. \n",
    "Functions are blocks of reusable code that perform a specific task or set of tasks when called. \n",
    "Here's the basic syntax for defining a function using the \"def\" keyword:\"\"\"\n",
    "\n",
    "def function_name(parameters):\n",
    "    # Function body\n",
    "    # Perform some actions or calculations\n",
    "    return result  # Optional: return a value"
   ]
  },
  {
   "cell_type": "raw",
   "id": "09218260-b833-48e6-bc69-b0205315a182",
   "metadata": {},
   "source": [
    "Q.6. What is the operation of this special character ‘\\’?"
   ]
  },
  {
   "cell_type": "code",
   "execution_count": null,
   "id": "19e40ae8-4d9e-4985-9ebc-7af4814e64a1",
   "metadata": {},
   "outputs": [],
   "source": [
    "# Answer 6.\n",
    "\n",
    "\"\"\"The backslash ‘\\’ character in Python, serves as an escape character. \n",
    "Its primary role is to modify the interpretation of subsequent characters in a string or control how they are displayed.\"\"\"\n",
    "\n",
    "# Common uses of the backslash include.\n",
    "# Escape Sequences: It precedes characters like '\\n' (newline), '\\t' (tab), '\\r' (carriage return), and '\\' (to represent a single backslash).\n",
    "# Special Characters: To include characters that would otherwise be treated as special, like '\"' for double quotes inside a double-quoted string.\n",
    "# Unicode Characters: To insert Unicode characters using their hexadecimal or octal representation (e.g., '\\u03A9' for the Greek letter omega).\n",
    "# File Paths: In file paths, it's used as a directory separator (e.g., 'C:\\Users\\username\\file.txt')."
   ]
  },
  {
   "cell_type": "raw",
   "id": "b6cbfb4a-0c14-4863-9c46-2b2d46be0971",
   "metadata": {},
   "source": [
    "Q.7. Give an example of the following conditions:\n",
    "(i) Homogeneous list\n",
    "(ii) Heterogeneous set\n",
    "(iii) Homogeneous tuple"
   ]
  },
  {
   "cell_type": "code",
   "execution_count": 8,
   "id": "c0aec26b-d5cf-46d2-8eb9-734abfe4143c",
   "metadata": {},
   "outputs": [],
   "source": [
    "# Answer 7.\n",
    "\n",
    "# Here are the examples:\n",
    "\n",
    "# (i) Homogeneous List:\n",
    "# A homogeneous list contains elements of the same data type. In this example, we create a list of integers:\n",
    "homogeneous_list = [1, 2, 3, 4, 5]\n",
    "\n",
    "# (ii) Heterogeneous Set:\n",
    "# A heterogeneous set can contain elements of different data types. Here, we create a set with a mix of integers, strings, and a boolean:\n",
    "heterogeneous_set = {1, \"apple\", 3.14, True}\n",
    "\n",
    "# (iii) Homogeneous Tuple:\n",
    "# A homogeneous tuple contains elements of the same data type. In this example, we create a tuple of strings:\n",
    "homogeneous_tuple = (\"apple\", \"banana\", \"cherry\")"
   ]
  },
  {
   "cell_type": "raw",
   "id": "e88111af-9f24-4808-8d7c-0001ba725cb5",
   "metadata": {},
   "source": [
    "Q.8. Explain the mutable and immutable data types with proper explanation & examples."
   ]
  },
  {
   "cell_type": "code",
   "execution_count": 6,
   "id": "8b0f9b4f-f493-42fe-b13a-cf76e5392c35",
   "metadata": {},
   "outputs": [
    {
     "data": {
      "text/plain": [
       "'Understanding the mutability of data types is crucial for efficient programming \\nand preventing unintended side effects when working with data in Python.'"
      ]
     },
     "execution_count": 6,
     "metadata": {},
     "output_type": "execute_result"
    }
   ],
   "source": [
    "# Answer 8.\n",
    "\n",
    "# In Python, data types can be categorized into two main groups: mutable and immutable.\n",
    "\n",
    "# Mutable Data Types:\n",
    "# Mutable data types are those whose values can be changed after they are created.\n",
    "# When you modify a mutable object, it doesn't create a new object; instead, it alters the existing one in memory.\n",
    "\n",
    "# Examples of mutable data types in Python:\n",
    "\n",
    "my_list = [1, 2, 3]\n",
    "my_list.append(4)  # Modifying the list\n",
    "\n",
    "my_dict = {'a': 1, 'b': 2}\n",
    "my_dict['a'] = 42  # Modifying the value associated with 'a'\n",
    "\n",
    "# Immutable Data Types:\n",
    "# Immutable data types are those whose values cannot be changed after they are created.\n",
    "# When you perform operations that seem to change the value, they create a new object in memory rather than modifying the existing one.\n",
    "\n",
    "# Examples of immutable data types in Python:\n",
    "\n",
    "my_string = \"Hello\"\n",
    "new_string = my_string + \", World!\"  # Creating a new string\n",
    "\n",
    "my_tuple = (1, 2, 3)\n",
    "# You cannot modify my_tuple; you would need to create a new one.\n",
    "\n",
    "x = 5\n",
    "x = x + 1  # Creating a new integer with a different value\n",
    "\n",
    "\"\"\"Understanding the mutability of data types is crucial for efficient programming \n",
    "and preventing unintended side effects when working with data in Python.\"\"\"\n"
   ]
  },
  {
   "cell_type": "raw",
   "id": "4daf7d66-4db1-46a8-a595-265daacba80c",
   "metadata": {},
   "source": [
    "Q.9. Write a code to create the given structure using only for loop.\n",
    "*\n",
    "***\n",
    "*****\n",
    "*******\n",
    "*********"
   ]
  },
  {
   "cell_type": "code",
   "execution_count": 5,
   "id": "7b62e270-9696-4a57-8f86-81fb0d08ed76",
   "metadata": {},
   "outputs": [
    {
     "name": "stdout",
     "output_type": "stream",
     "text": [
      "*\n",
      "***\n",
      "*****\n",
      "*******\n",
      "*********\n"
     ]
    },
    {
     "data": {
      "text/plain": [
       "'The loop iterates from 1 to 5, and at each iteration, it prints a line of asterisks. \\nThe number of asterisks printed in each line is determined by (2*i - 1), where i is the current iteration variable. \\nThis formula creates the pattern of increasing odd numbers of asterisks in each line.'"
      ]
     },
     "execution_count": 5,
     "metadata": {},
     "output_type": "execute_result"
    }
   ],
   "source": [
    "# Answer 9.\n",
    "\n",
    "for i in range(1, 6):  # Loop from 1 to 5\n",
    "    print(\"*\" * (2*i - 1))\n",
    "    \n",
    "\"\"\"The loop iterates from 1 to 5, and at each iteration, it prints a line of asterisks. \n",
    "The number of asterisks printed in each line is determined by (2*i - 1), where i is the current iteration variable. \n",
    "This formula creates the pattern of increasing odd numbers of asterisks in each line.\"\"\""
   ]
  },
  {
   "cell_type": "raw",
   "id": "e6da2021-ce99-447e-b770-ab49bf3e39c9",
   "metadata": {},
   "source": [
    "Q.10.Write a code to create the given structure using while loop.\n",
    "|||||||||\n",
    "|||||||\n",
    "|||||\n",
    "|||\n",
    "|"
   ]
  },
  {
   "cell_type": "code",
   "execution_count": 4,
   "id": "75a9ff8e-9f38-47ab-8d4c-843131b56c62",
   "metadata": {},
   "outputs": [
    {
     "name": "stdout",
     "output_type": "stream",
     "text": [
      "|||||||||\n",
      "|||||||\n",
      "|||||\n",
      "|||\n",
      "|\n"
     ]
    },
    {
     "data": {
      "text/plain": [
       "\"The while loop starts with n set to 9 (the total number of '|' characters in the first line) and decreases it by 2 in each iteration. \\nIt prints a line of '|' characters with the current value of n until n becomes less than 1, which generates the desired pattern.\""
      ]
     },
     "execution_count": 4,
     "metadata": {},
     "output_type": "execute_result"
    }
   ],
   "source": [
    "# Answer 10.\n",
    "\n",
    "n = 9  # Total number of '|' characters in the first line\n",
    "\n",
    "while n >= 1:\n",
    "    print(\"|\" * n)\n",
    "    n -= 2  # Reduce the number of '|' characters by 2 in each line\n",
    "    \n",
    "\"\"\"The while loop starts with n set to 9 (the total number of '|' characters in the first line) and decreases it by 2 in each iteration. \n",
    "It prints a line of '|' characters with the current value of n until n becomes less than 1, which generates the desired pattern.\"\"\""
   ]
  }
 ],
 "metadata": {
  "kernelspec": {
   "display_name": "Python 3 (ipykernel)",
   "language": "python",
   "name": "python3"
  },
  "language_info": {
   "codemirror_mode": {
    "name": "ipython",
    "version": 3
   },
   "file_extension": ".py",
   "mimetype": "text/x-python",
   "name": "python",
   "nbconvert_exporter": "python",
   "pygments_lexer": "ipython3",
   "version": "3.10.6"
  }
 },
 "nbformat": 4,
 "nbformat_minor": 5
}
